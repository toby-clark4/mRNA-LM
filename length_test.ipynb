{
 "cells": [
  {
   "cell_type": "code",
   "execution_count": 17,
   "id": "9892d3f9-86a5-4cc6-8701-bda2168026ef",
   "metadata": {
    "execution": {
     "iopub.execute_input": "2025-08-12T08:42:53.950578Z",
     "iopub.status.busy": "2025-08-12T08:42:53.950107Z",
     "iopub.status.idle": "2025-08-12T08:42:53.952903Z",
     "shell.execute_reply": "2025-08-12T08:42:53.952574Z",
     "shell.execute_reply.started": "2025-08-12T08:42:53.950561Z"
    }
   },
   "outputs": [],
   "source": [
    "import pandas as pd\n",
    "import matplotlib.pyplot as plt\n",
    "import seaborn as sns\n",
    "from scipy.stats import spearmanr"
   ]
  },
  {
   "cell_type": "code",
   "execution_count": 4,
   "id": "6df7dd62-ef1c-4ff3-be4d-c28c41f45fbf",
   "metadata": {
    "execution": {
     "iopub.execute_input": "2025-08-12T08:22:39.537149Z",
     "iopub.status.busy": "2025-08-12T08:22:39.536861Z",
     "iopub.status.idle": "2025-08-12T08:22:40.307478Z",
     "shell.execute_reply": "2025-08-12T08:22:40.307074Z",
     "shell.execute_reply.started": "2025-08-12T08:22:39.537133Z"
    }
   },
   "outputs": [],
   "source": [
    "data = pd.read_csv('../CDS-LM/data/finetuning/saluki/human_sss_reprocessed.csv', index_col=0)"
   ]
  },
  {
   "cell_type": "code",
   "execution_count": 10,
   "id": "c9f9f63e-9451-43e5-aa38-0ea5dab27ca0",
   "metadata": {
    "execution": {
     "iopub.execute_input": "2025-08-12T08:24:33.975702Z",
     "iopub.status.busy": "2025-08-12T08:24:33.975340Z",
     "iopub.status.idle": "2025-08-12T08:24:33.984655Z",
     "shell.execute_reply": "2025-08-12T08:24:33.984287Z",
     "shell.execute_reply.started": "2025-08-12T08:24:33.975679Z"
    }
   },
   "outputs": [],
   "source": [
    "data['CDSLen'] = data['CDS'].apply(len)\n",
    "data['LenBin'] = pd.qcut(data['CDSLen'], 5, labels=[0,1,2,3,4])"
   ]
  },
  {
   "cell_type": "code",
   "execution_count": 23,
   "id": "23188928-c4d6-46e3-a54e-e0b2dc1236c1",
   "metadata": {
    "execution": {
     "iopub.execute_input": "2025-08-12T08:46:55.150546Z",
     "iopub.status.busy": "2025-08-12T08:46:55.150224Z",
     "iopub.status.idle": "2025-08-12T08:46:55.153845Z",
     "shell.execute_reply": "2025-08-12T08:46:55.153366Z",
     "shell.execute_reply.started": "2025-08-12T08:46:55.150528Z"
    }
   },
   "outputs": [],
   "source": [
    "data.set_index('Gene', inplace=True)"
   ]
  },
  {
   "cell_type": "code",
   "execution_count": 12,
   "id": "5b4a9f19-b60e-4286-8abf-c8b1e56e5851",
   "metadata": {
    "execution": {
     "iopub.execute_input": "2025-08-12T08:30:13.426003Z",
     "iopub.status.busy": "2025-08-12T08:30:13.425705Z",
     "iopub.status.idle": "2025-08-12T08:30:13.461989Z",
     "shell.execute_reply": "2025-08-12T08:30:13.461639Z",
     "shell.execute_reply.started": "2025-08-12T08:30:13.425986Z"
    }
   },
   "outputs": [
    {
     "data": {
      "text/html": [
       "<div>\n",
       "<style scoped>\n",
       "    .dataframe tbody tr th:only-of-type {\n",
       "        vertical-align: middle;\n",
       "    }\n",
       "\n",
       "    .dataframe tbody tr th {\n",
       "        vertical-align: top;\n",
       "    }\n",
       "\n",
       "    .dataframe thead th {\n",
       "        text-align: right;\n",
       "    }\n",
       "</style>\n",
       "<table border=\"1\" class=\"dataframe\">\n",
       "  <thead>\n",
       "    <tr style=\"text-align: right;\">\n",
       "      <th></th>\n",
       "      <th>gene</th>\n",
       "      <th>preds</th>\n",
       "      <th>targets</th>\n",
       "      <th>fold</th>\n",
       "      <th>cross</th>\n",
       "    </tr>\n",
       "  </thead>\n",
       "  <tbody>\n",
       "    <tr>\n",
       "      <th>0</th>\n",
       "      <td>ENSG00000000457</td>\n",
       "      <td>0.16850</td>\n",
       "      <td>-1.437500</td>\n",
       "      <td>0</td>\n",
       "      <td>0</td>\n",
       "    </tr>\n",
       "    <tr>\n",
       "      <th>1</th>\n",
       "      <td>ENSG00000001631</td>\n",
       "      <td>0.08484</td>\n",
       "      <td>-0.184937</td>\n",
       "      <td>0</td>\n",
       "      <td>0</td>\n",
       "    </tr>\n",
       "    <tr>\n",
       "      <th>2</th>\n",
       "      <td>ENSG00000002549</td>\n",
       "      <td>1.18600</td>\n",
       "      <td>1.395508</td>\n",
       "      <td>0</td>\n",
       "      <td>0</td>\n",
       "    </tr>\n",
       "    <tr>\n",
       "      <th>3</th>\n",
       "      <td>ENSG00000003137</td>\n",
       "      <td>0.71500</td>\n",
       "      <td>-0.657227</td>\n",
       "      <td>0</td>\n",
       "      <td>0</td>\n",
       "    </tr>\n",
       "    <tr>\n",
       "      <th>4</th>\n",
       "      <td>ENSG00000003987</td>\n",
       "      <td>0.37800</td>\n",
       "      <td>0.064392</td>\n",
       "      <td>0</td>\n",
       "      <td>0</td>\n",
       "    </tr>\n",
       "    <tr>\n",
       "      <th>...</th>\n",
       "      <td>...</td>\n",
       "      <td>...</td>\n",
       "      <td>...</td>\n",
       "      <td>...</td>\n",
       "      <td>...</td>\n",
       "    </tr>\n",
       "    <tr>\n",
       "      <th>64835</th>\n",
       "      <td>ENSG00000273045</td>\n",
       "      <td>-0.53560</td>\n",
       "      <td>-0.976074</td>\n",
       "      <td>9</td>\n",
       "      <td>4</td>\n",
       "    </tr>\n",
       "    <tr>\n",
       "      <th>64836</th>\n",
       "      <td>ENSG00000274286</td>\n",
       "      <td>-0.70850</td>\n",
       "      <td>-0.480713</td>\n",
       "      <td>9</td>\n",
       "      <td>4</td>\n",
       "    </tr>\n",
       "    <tr>\n",
       "      <th>64837</th>\n",
       "      <td>ENSG00000275004</td>\n",
       "      <td>-2.14000</td>\n",
       "      <td>-1.830078</td>\n",
       "      <td>9</td>\n",
       "      <td>4</td>\n",
       "    </tr>\n",
       "    <tr>\n",
       "      <th>64838</th>\n",
       "      <td>ENSG00000275183</td>\n",
       "      <td>-1.35400</td>\n",
       "      <td>-1.360352</td>\n",
       "      <td>9</td>\n",
       "      <td>4</td>\n",
       "    </tr>\n",
       "    <tr>\n",
       "      <th>64839</th>\n",
       "      <td>ENSG00000275410</td>\n",
       "      <td>-1.05100</td>\n",
       "      <td>-0.498779</td>\n",
       "      <td>9</td>\n",
       "      <td>4</td>\n",
       "    </tr>\n",
       "  </tbody>\n",
       "</table>\n",
       "<p>64840 rows × 5 columns</p>\n",
       "</div>"
      ],
      "text/plain": [
       "                  gene    preds   targets  fold  cross\n",
       "0      ENSG00000000457  0.16850 -1.437500     0      0\n",
       "1      ENSG00000001631  0.08484 -0.184937     0      0\n",
       "2      ENSG00000002549  1.18600  1.395508     0      0\n",
       "3      ENSG00000003137  0.71500 -0.657227     0      0\n",
       "4      ENSG00000003987  0.37800  0.064392     0      0\n",
       "...                ...      ...       ...   ...    ...\n",
       "64835  ENSG00000273045 -0.53560 -0.976074     9      4\n",
       "64836  ENSG00000274286 -0.70850 -0.480713     9      4\n",
       "64837  ENSG00000275004 -2.14000 -1.830078     9      4\n",
       "64838  ENSG00000275183 -1.35400 -1.360352     9      4\n",
       "64839  ENSG00000275410 -1.05100 -0.498779     9      4\n",
       "\n",
       "[64840 rows x 5 columns]"
      ]
     },
     "execution_count": 12,
     "metadata": {},
     "output_type": "execute_result"
    }
   ],
   "source": [
    "saluki_preds = pd.read_csv('saluki_preds.csv', index_col=0)\n",
    "saluki_preds"
   ]
  },
  {
   "cell_type": "code",
   "execution_count": 13,
   "id": "8203a0bf-4d41-4768-a8c2-b78238563104",
   "metadata": {
    "execution": {
     "iopub.execute_input": "2025-08-12T08:30:58.360827Z",
     "iopub.status.busy": "2025-08-12T08:30:58.360545Z",
     "iopub.status.idle": "2025-08-12T08:30:58.374360Z",
     "shell.execute_reply": "2025-08-12T08:30:58.374011Z",
     "shell.execute_reply.started": "2025-08-12T08:30:58.360810Z"
    }
   },
   "outputs": [
    {
     "data": {
      "text/html": [
       "<div>\n",
       "<style scoped>\n",
       "    .dataframe tbody tr th:only-of-type {\n",
       "        vertical-align: middle;\n",
       "    }\n",
       "\n",
       "    .dataframe tbody tr th {\n",
       "        vertical-align: top;\n",
       "    }\n",
       "\n",
       "    .dataframe thead th {\n",
       "        text-align: right;\n",
       "    }\n",
       "</style>\n",
       "<table border=\"1\" class=\"dataframe\">\n",
       "  <thead>\n",
       "    <tr style=\"text-align: right;\">\n",
       "      <th></th>\n",
       "      <th>pred</th>\n",
       "      <th>y_true</th>\n",
       "    </tr>\n",
       "  </thead>\n",
       "  <tbody>\n",
       "    <tr>\n",
       "      <th>0</th>\n",
       "      <td>0.652344</td>\n",
       "      <td>0.090027</td>\n",
       "    </tr>\n",
       "    <tr>\n",
       "      <th>1</th>\n",
       "      <td>0.300781</td>\n",
       "      <td>0.493896</td>\n",
       "    </tr>\n",
       "    <tr>\n",
       "      <th>2</th>\n",
       "      <td>0.597656</td>\n",
       "      <td>1.508789</td>\n",
       "    </tr>\n",
       "    <tr>\n",
       "      <th>3</th>\n",
       "      <td>-0.660156</td>\n",
       "      <td>-0.536133</td>\n",
       "    </tr>\n",
       "    <tr>\n",
       "      <th>4</th>\n",
       "      <td>-0.500000</td>\n",
       "      <td>-1.348633</td>\n",
       "    </tr>\n",
       "    <tr>\n",
       "      <th>...</th>\n",
       "      <td>...</td>\n",
       "      <td>...</td>\n",
       "    </tr>\n",
       "    <tr>\n",
       "      <th>12909</th>\n",
       "      <td>-1.757812</td>\n",
       "      <td>-1.743164</td>\n",
       "    </tr>\n",
       "    <tr>\n",
       "      <th>12910</th>\n",
       "      <td>-1.304688</td>\n",
       "      <td>-1.372070</td>\n",
       "    </tr>\n",
       "    <tr>\n",
       "      <th>12911</th>\n",
       "      <td>-1.898438</td>\n",
       "      <td>-2.175781</td>\n",
       "    </tr>\n",
       "    <tr>\n",
       "      <th>12912</th>\n",
       "      <td>0.213867</td>\n",
       "      <td>-1.517578</td>\n",
       "    </tr>\n",
       "    <tr>\n",
       "      <th>12913</th>\n",
       "      <td>0.582031</td>\n",
       "      <td>0.701172</td>\n",
       "    </tr>\n",
       "  </tbody>\n",
       "</table>\n",
       "<p>12914 rows × 2 columns</p>\n",
       "</div>"
      ],
      "text/plain": [
       "           pred    y_true\n",
       "0      0.652344  0.090027\n",
       "1      0.300781  0.493896\n",
       "2      0.597656  1.508789\n",
       "3     -0.660156 -0.536133\n",
       "4     -0.500000 -1.348633\n",
       "...         ...       ...\n",
       "12909 -1.757812 -1.743164\n",
       "12910 -1.304688 -1.372070\n",
       "12911 -1.898438 -2.175781\n",
       "12912  0.213867 -1.517578\n",
       "12913  0.582031  0.701172\n",
       "\n",
       "[12914 rows x 2 columns]"
      ]
     },
     "execution_count": 13,
     "metadata": {},
     "output_type": "execute_result"
    }
   ],
   "source": [
    "cdslm_preds = pd.read_csv('CDS-LM-2048/test_preds.csv', index_col=0)\n",
    "cdslm_preds"
   ]
  },
  {
   "cell_type": "code",
   "execution_count": 14,
   "id": "8044086a-53b0-4671-930b-7244f0715b12",
   "metadata": {
    "execution": {
     "iopub.execute_input": "2025-08-12T08:31:42.182428Z",
     "iopub.status.busy": "2025-08-12T08:31:42.181585Z",
     "iopub.status.idle": "2025-08-12T08:31:42.186526Z",
     "shell.execute_reply": "2025-08-12T08:31:42.186145Z",
     "shell.execute_reply.started": "2025-08-12T08:31:42.182402Z"
    }
   },
   "outputs": [],
   "source": [
    "cdslm_preds['LenBin'] = data['LenBin']"
   ]
  },
  {
   "cell_type": "code",
   "execution_count": null,
   "id": "356cb2dc-1129-4ce8-946e-e871ad2ee069",
   "metadata": {},
   "outputs": [],
   "source": [
    "for lenbin in range(5):\n",
    "    subset = cdslm_preds[cdslm_preds['LenBin'] == lenbin]\n",
    "    print(spearmanr(subset['pred'], subset['y_true']))"
   ]
  },
  {
   "cell_type": "code",
   "execution_count": 41,
   "id": "e149f7a2-be33-4c3d-a313-9d47bb9a3754",
   "metadata": {
    "execution": {
     "iopub.execute_input": "2025-08-12T14:09:04.709590Z",
     "iopub.status.busy": "2025-08-12T14:09:04.708910Z",
     "iopub.status.idle": "2025-08-12T14:09:04.731583Z",
     "shell.execute_reply": "2025-08-12T14:09:04.731072Z",
     "shell.execute_reply.started": "2025-08-12T14:09:04.709573Z"
    }
   },
   "outputs": [],
   "source": [
    "cdslm_preds.to_csv('CDS-LM_preds.csv')"
   ]
  },
  {
   "cell_type": "code",
   "execution_count": 39,
   "id": "641ba18a-685a-42ba-bf05-8b0004ccb7eb",
   "metadata": {
    "execution": {
     "iopub.execute_input": "2025-08-12T14:08:27.063270Z",
     "iopub.status.busy": "2025-08-12T14:08:27.062632Z",
     "iopub.status.idle": "2025-08-12T14:08:27.069664Z",
     "shell.execute_reply": "2025-08-12T14:08:27.069179Z",
     "shell.execute_reply.started": "2025-08-12T14:08:27.063255Z"
    }
   },
   "outputs": [
    {
     "data": {
      "text/html": [
       "<div>\n",
       "<style scoped>\n",
       "    .dataframe tbody tr th:only-of-type {\n",
       "        vertical-align: middle;\n",
       "    }\n",
       "\n",
       "    .dataframe tbody tr th {\n",
       "        vertical-align: top;\n",
       "    }\n",
       "\n",
       "    .dataframe thead th {\n",
       "        text-align: right;\n",
       "    }\n",
       "</style>\n",
       "<table border=\"1\" class=\"dataframe\">\n",
       "  <thead>\n",
       "    <tr style=\"text-align: right;\">\n",
       "      <th></th>\n",
       "      <th>gene</th>\n",
       "      <th>preds</th>\n",
       "      <th>targets</th>\n",
       "      <th>LenBin</th>\n",
       "    </tr>\n",
       "  </thead>\n",
       "  <tbody>\n",
       "    <tr>\n",
       "      <th>0</th>\n",
       "      <td>ENSG00000000003</td>\n",
       "      <td>1.366320</td>\n",
       "      <td>1.793945</td>\n",
       "      <td>0.0</td>\n",
       "    </tr>\n",
       "    <tr>\n",
       "      <th>1</th>\n",
       "      <td>ENSG00000000457</td>\n",
       "      <td>-0.166648</td>\n",
       "      <td>-1.437500</td>\n",
       "      <td>3.0</td>\n",
       "    </tr>\n",
       "    <tr>\n",
       "      <th>2</th>\n",
       "      <td>ENSG00000000460</td>\n",
       "      <td>0.406774</td>\n",
       "      <td>0.090027</td>\n",
       "      <td>4.0</td>\n",
       "    </tr>\n",
       "    <tr>\n",
       "      <th>3</th>\n",
       "      <td>ENSG00000000938</td>\n",
       "      <td>1.303200</td>\n",
       "      <td>-0.197021</td>\n",
       "      <td>2.0</td>\n",
       "    </tr>\n",
       "    <tr>\n",
       "      <th>4</th>\n",
       "      <td>ENSG00000000971</td>\n",
       "      <td>-0.009372</td>\n",
       "      <td>1.599609</td>\n",
       "      <td>4.0</td>\n",
       "    </tr>\n",
       "    <tr>\n",
       "      <th>...</th>\n",
       "      <td>...</td>\n",
       "      <td>...</td>\n",
       "      <td>...</td>\n",
       "      <td>...</td>\n",
       "    </tr>\n",
       "    <tr>\n",
       "      <th>12963</th>\n",
       "      <td>ENSG00000278615</td>\n",
       "      <td>0.639960</td>\n",
       "      <td>0.260498</td>\n",
       "      <td>0.0</td>\n",
       "    </tr>\n",
       "    <tr>\n",
       "      <th>12964</th>\n",
       "      <td>ENSG00000278619</td>\n",
       "      <td>-0.508720</td>\n",
       "      <td>-0.278076</td>\n",
       "      <td>1.0</td>\n",
       "    </tr>\n",
       "    <tr>\n",
       "      <th>12965</th>\n",
       "      <td>ENSG00000278845</td>\n",
       "      <td>0.274960</td>\n",
       "      <td>0.384766</td>\n",
       "      <td>1.0</td>\n",
       "    </tr>\n",
       "    <tr>\n",
       "      <th>12966</th>\n",
       "      <td>ENSG00000280789</td>\n",
       "      <td>-1.413600</td>\n",
       "      <td>-0.500977</td>\n",
       "      <td>0.0</td>\n",
       "    </tr>\n",
       "    <tr>\n",
       "      <th>12967</th>\n",
       "      <td>ENSG00000281991</td>\n",
       "      <td>0.791660</td>\n",
       "      <td>-1.113281</td>\n",
       "      <td>0.0</td>\n",
       "    </tr>\n",
       "  </tbody>\n",
       "</table>\n",
       "<p>12912 rows × 4 columns</p>\n",
       "</div>"
      ],
      "text/plain": [
       "                  gene     preds   targets  LenBin\n",
       "0      ENSG00000000003  1.366320  1.793945     0.0\n",
       "1      ENSG00000000457 -0.166648 -1.437500     3.0\n",
       "2      ENSG00000000460  0.406774  0.090027     4.0\n",
       "3      ENSG00000000938  1.303200 -0.197021     2.0\n",
       "4      ENSG00000000971 -0.009372  1.599609     4.0\n",
       "...                ...       ...       ...     ...\n",
       "12963  ENSG00000278615  0.639960  0.260498     0.0\n",
       "12964  ENSG00000278619 -0.508720 -0.278076     1.0\n",
       "12965  ENSG00000278845  0.274960  0.384766     1.0\n",
       "12966  ENSG00000280789 -1.413600 -0.500977     0.0\n",
       "12967  ENSG00000281991  0.791660 -1.113281     0.0\n",
       "\n",
       "[12912 rows x 4 columns]"
      ]
     },
     "execution_count": 39,
     "metadata": {},
     "output_type": "execute_result"
    }
   ],
   "source": [
    "ens_preds"
   ]
  },
  {
   "cell_type": "code",
   "execution_count": 40,
   "id": "9a2fe056-525e-4461-86d9-9d8dbd178e46",
   "metadata": {
    "execution": {
     "iopub.execute_input": "2025-08-12T14:08:52.066945Z",
     "iopub.status.busy": "2025-08-12T14:08:52.066282Z",
     "iopub.status.idle": "2025-08-12T14:08:52.098152Z",
     "shell.execute_reply": "2025-08-12T14:08:52.097626Z",
     "shell.execute_reply.started": "2025-08-12T14:08:52.066928Z"
    }
   },
   "outputs": [],
   "source": [
    "ens_preds.to_csv('saluki_ensemble_preds.csv')"
   ]
  },
  {
   "cell_type": "code",
   "execution_count": 33,
   "id": "cc710b7f-5b6b-4701-99f2-494f25a69e76",
   "metadata": {
    "execution": {
     "iopub.execute_input": "2025-08-12T08:55:09.817790Z",
     "iopub.status.busy": "2025-08-12T08:55:09.817429Z",
     "iopub.status.idle": "2025-08-12T08:55:09.834270Z",
     "shell.execute_reply": "2025-08-12T08:55:09.833813Z",
     "shell.execute_reply.started": "2025-08-12T08:55:09.817772Z"
    }
   },
   "outputs": [],
   "source": [
    "ens_preds = saluki_preds.groupby('gene')[['preds', 'targets']].mean().reset_index()"
   ]
  },
  {
   "cell_type": "code",
   "execution_count": 34,
   "id": "fb5c316d-3f04-4f57-b727-9b49b70d0a90",
   "metadata": {
    "execution": {
     "iopub.execute_input": "2025-08-12T08:55:21.039631Z",
     "iopub.status.busy": "2025-08-12T08:55:21.039350Z",
     "iopub.status.idle": "2025-08-12T08:55:21.049617Z",
     "shell.execute_reply": "2025-08-12T08:55:21.049118Z",
     "shell.execute_reply.started": "2025-08-12T08:55:21.039615Z"
    }
   },
   "outputs": [],
   "source": [
    "gene_bin_dict = data['LenBin'].to_dict()\n",
    "ens_preds['LenBin'] = [gene_bin_dict.get(gene) for gene in ens_preds['gene']]"
   ]
  },
  {
   "cell_type": "code",
   "execution_count": 35,
   "id": "3224444e-3b4f-4861-987d-88497de5aecd",
   "metadata": {
    "execution": {
     "iopub.execute_input": "2025-08-12T08:55:24.249917Z",
     "iopub.status.busy": "2025-08-12T08:55:24.249590Z",
     "iopub.status.idle": "2025-08-12T08:55:24.254233Z",
     "shell.execute_reply": "2025-08-12T08:55:24.253772Z",
     "shell.execute_reply.started": "2025-08-12T08:55:24.249897Z"
    }
   },
   "outputs": [],
   "source": [
    "ens_preds.dropna(inplace=True)"
   ]
  },
  {
   "cell_type": "code",
   "execution_count": 36,
   "id": "6c32f7cc-3c43-4072-9e1e-3d2ffcc591c7",
   "metadata": {
    "execution": {
     "iopub.execute_input": "2025-08-12T08:55:38.542182Z",
     "iopub.status.busy": "2025-08-12T08:55:38.541876Z",
     "iopub.status.idle": "2025-08-12T08:55:38.583184Z",
     "shell.execute_reply": "2025-08-12T08:55:38.582690Z",
     "shell.execute_reply.started": "2025-08-12T08:55:38.542165Z"
    }
   },
   "outputs": [
    {
     "name": "stdout",
     "output_type": "stream",
     "text": [
      "SignificanceResult(statistic=np.float64(0.7316436821350907), pvalue=np.float64(0.0))\n",
      "SignificanceResult(statistic=np.float64(0.7549508023423297), pvalue=np.float64(0.0))\n",
      "SignificanceResult(statistic=np.float64(0.7691705244372246), pvalue=np.float64(0.0))\n",
      "SignificanceResult(statistic=np.float64(0.7667858996601215), pvalue=np.float64(0.0))\n",
      "SignificanceResult(statistic=np.float64(0.7424743594684269), pvalue=np.float64(0.0))\n"
     ]
    }
   ],
   "source": [
    "for lenbin in range(5):\n",
    "    subset = ens_preds[ens_preds['LenBin'] == lenbin]\n",
    "    print(spearmanr(subset['preds'], subset['targets']))"
   ]
  },
  {
   "cell_type": "code",
   "execution_count": 37,
   "id": "e8a4a0e1-292f-47f5-876f-3964b6ca6d0c",
   "metadata": {
    "execution": {
     "iopub.execute_input": "2025-08-12T08:55:59.753264Z",
     "iopub.status.busy": "2025-08-12T08:55:59.752942Z",
     "iopub.status.idle": "2025-08-12T08:55:59.979810Z",
     "shell.execute_reply": "2025-08-12T08:55:59.978550Z",
     "shell.execute_reply.started": "2025-08-12T08:55:59.753245Z"
    }
   },
   "outputs": [
    {
     "name": "stdout",
     "output_type": "stream",
     "text": [
      "SignificanceResult(statistic=np.float64(0.7591170934498667), pvalue=np.float64(0.0))\n",
      "SignificanceResult(statistic=np.float64(0.7459861129868056), pvalue=np.float64(0.0))\n",
      "SignificanceResult(statistic=np.float64(0.7563678694435764), pvalue=np.float64(0.0))\n",
      "SignificanceResult(statistic=np.float64(0.7406230053904052), pvalue=np.float64(0.0))\n",
      "SignificanceResult(statistic=np.float64(0.7482090578087189), pvalue=np.float64(0.0))\n"
     ]
    }
   ],
   "source": [
    "for lenbin in range(5):\n",
    "    subset = cdslm_preds[cdslm_preds['LenBin'] == lenbin]\n",
    "    print(spearmanr(subset['pred'], subset['y_true']))"
   ]
  },
  {
   "cell_type": "code",
   "execution_count": null,
   "id": "9f3e35b5-efff-4105-9a7e-27b5db95edcf",
   "metadata": {},
   "outputs": [],
   "source": [
    "# Now repeat with Saluki/CDS-LM combined.\n",
    "# Bootstrap same number with replacement from each bin and calculate Spearman's correlation for 100(0) replicates (confidence ints.)\n",
    "# Compare proportion of time CDS-LM > Saluki for each bin and vice versa."
   ]
  }
 ],
 "metadata": {
  "kernelspec": {
   "display_name": "saturn (Python 3)",
   "language": "python",
   "name": "python3"
  },
  "language_info": {
   "codemirror_mode": {
    "name": "ipython",
    "version": 3
   },
   "file_extension": ".py",
   "mimetype": "text/x-python",
   "name": "python",
   "nbconvert_exporter": "python",
   "pygments_lexer": "ipython3",
   "version": "3.12.9"
  }
 },
 "nbformat": 4,
 "nbformat_minor": 5
}
