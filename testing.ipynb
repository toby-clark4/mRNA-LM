{
 "cells": [
  {
   "cell_type": "code",
   "execution_count": 16,
   "id": "7941cf07-7ea5-471e-8809-f28f39da33cc",
   "metadata": {
    "execution": {
     "iopub.execute_input": "2025-07-18T12:53:16.387871Z",
     "iopub.status.busy": "2025-07-18T12:53:16.387398Z",
     "iopub.status.idle": "2025-07-18T12:53:16.390708Z",
     "shell.execute_reply": "2025-07-18T12:53:16.390298Z",
     "shell.execute_reply.started": "2025-07-18T12:53:16.387853Z"
    }
   },
   "outputs": [],
   "source": [
    "import pandas as pd\n",
    "import numpy as np\n",
    "import os\n",
    "from scipy.stats import pearsonr, spearmanr\n",
    "import h5py"
   ]
  },
  {
   "cell_type": "code",
   "execution_count": 2,
   "id": "1c07f09a-e04c-491c-b2c8-4c08fa163562",
   "metadata": {
    "execution": {
     "iopub.execute_input": "2025-07-18T12:45:41.288243Z",
     "iopub.status.busy": "2025-07-18T12:45:41.287945Z",
     "iopub.status.idle": "2025-07-18T12:45:41.308129Z",
     "shell.execute_reply": "2025-07-18T12:45:41.307783Z",
     "shell.execute_reply.started": "2025-07-18T12:45:41.288190Z"
    }
   },
   "outputs": [
    {
     "data": {
      "text/plain": [
       "np.float64(0.7515403363651003)"
      ]
     },
     "execution_count": 2,
     "metadata": {},
     "output_type": "execute_result"
    }
   ],
   "source": [
    "data = pd.read_csv('CDS-LM-2048/test_res.csv', index_col=0)\n",
    "data['test_spearmanr'].mean()"
   ]
  },
  {
   "cell_type": "code",
   "execution_count": 8,
   "id": "1e8f873b-3d02-47a6-99fa-7df0700f08c4",
   "metadata": {
    "execution": {
     "iopub.execute_input": "2025-07-08T07:24:58.740976Z",
     "iopub.status.busy": "2025-07-08T07:24:58.740305Z",
     "iopub.status.idle": "2025-07-08T07:24:58.746627Z",
     "shell.execute_reply": "2025-07-08T07:24:58.746156Z",
     "shell.execute_reply.started": "2025-07-08T07:24:58.740951Z"
    }
   },
   "outputs": [
    {
     "data": {
      "text/plain": [
       "np.float64(0.739821714808286)"
      ]
     },
     "execution_count": 8,
     "metadata": {},
     "output_type": "execute_result"
    }
   ],
   "source": [
    "data = pd.read_csv('CDS-LM-default-clip-res.csv', index_col=0)\n",
    "data['test_spearmanr'].mean()"
   ]
  },
  {
   "cell_type": "code",
   "execution_count": 27,
   "id": "7753010a-c096-44e4-a5a8-ed55bb29cdc0",
   "metadata": {
    "execution": {
     "iopub.execute_input": "2025-07-18T13:09:00.413498Z",
     "iopub.status.busy": "2025-07-18T13:09:00.413072Z",
     "iopub.status.idle": "2025-07-18T13:09:00.424689Z",
     "shell.execute_reply": "2025-07-18T13:09:00.424270Z",
     "shell.execute_reply.started": "2025-07-18T13:09:00.413476Z"
    }
   },
   "outputs": [
    {
     "data": {
      "text/html": [
       "<div>\n",
       "<style scoped>\n",
       "    .dataframe tbody tr th:only-of-type {\n",
       "        vertical-align: middle;\n",
       "    }\n",
       "\n",
       "    .dataframe tbody tr th {\n",
       "        vertical-align: top;\n",
       "    }\n",
       "\n",
       "    .dataframe thead th {\n",
       "        text-align: right;\n",
       "    }\n",
       "</style>\n",
       "<table border=\"1\" class=\"dataframe\">\n",
       "  <thead>\n",
       "    <tr style=\"text-align: right;\">\n",
       "      <th></th>\n",
       "      <th>pred</th>\n",
       "      <th>y_true</th>\n",
       "    </tr>\n",
       "  </thead>\n",
       "  <tbody>\n",
       "    <tr>\n",
       "      <th>0</th>\n",
       "      <td>0.484375</td>\n",
       "      <td>0.090027</td>\n",
       "    </tr>\n",
       "    <tr>\n",
       "      <th>1</th>\n",
       "      <td>0.269531</td>\n",
       "      <td>0.493896</td>\n",
       "    </tr>\n",
       "    <tr>\n",
       "      <th>2</th>\n",
       "      <td>0.753906</td>\n",
       "      <td>1.508789</td>\n",
       "    </tr>\n",
       "    <tr>\n",
       "      <th>3</th>\n",
       "      <td>-0.722656</td>\n",
       "      <td>-0.536133</td>\n",
       "    </tr>\n",
       "    <tr>\n",
       "      <th>4</th>\n",
       "      <td>-0.445312</td>\n",
       "      <td>-1.348633</td>\n",
       "    </tr>\n",
       "    <tr>\n",
       "      <th>...</th>\n",
       "      <td>...</td>\n",
       "      <td>...</td>\n",
       "    </tr>\n",
       "    <tr>\n",
       "      <th>12909</th>\n",
       "      <td>-1.679688</td>\n",
       "      <td>-1.743164</td>\n",
       "    </tr>\n",
       "    <tr>\n",
       "      <th>12910</th>\n",
       "      <td>-1.398438</td>\n",
       "      <td>-1.372070</td>\n",
       "    </tr>\n",
       "    <tr>\n",
       "      <th>12911</th>\n",
       "      <td>-1.976562</td>\n",
       "      <td>-2.175781</td>\n",
       "    </tr>\n",
       "    <tr>\n",
       "      <th>12912</th>\n",
       "      <td>0.194336</td>\n",
       "      <td>-1.517578</td>\n",
       "    </tr>\n",
       "    <tr>\n",
       "      <th>12913</th>\n",
       "      <td>0.792969</td>\n",
       "      <td>0.701172</td>\n",
       "    </tr>\n",
       "  </tbody>\n",
       "</table>\n",
       "<p>12914 rows × 2 columns</p>\n",
       "</div>"
      ],
      "text/plain": [
       "           pred    y_true\n",
       "0      0.484375  0.090027\n",
       "1      0.269531  0.493896\n",
       "2      0.753906  1.508789\n",
       "3     -0.722656 -0.536133\n",
       "4     -0.445312 -1.348633\n",
       "...         ...       ...\n",
       "12909 -1.679688 -1.743164\n",
       "12910 -1.398438 -1.372070\n",
       "12911 -1.976562 -2.175781\n",
       "12912  0.194336 -1.517578\n",
       "12913  0.792969  0.701172\n",
       "\n",
       "[12914 rows x 2 columns]"
      ]
     },
     "execution_count": 27,
     "metadata": {},
     "output_type": "execute_result"
    }
   ],
   "source": [
    "from scipy.stats import spearmanr, pearsonr\n",
    "\n",
    "data = pd.read_csv('sss_all_preds.csv', index_col=0)\n",
    "data"
   ]
  },
  {
   "cell_type": "code",
   "execution_count": 22,
   "id": "a9c44f1c-b708-4495-b443-39c25f1e29c9",
   "metadata": {
    "execution": {
     "iopub.execute_input": "2025-07-11T13:27:10.367492Z",
     "iopub.status.busy": "2025-07-11T13:27:10.367169Z",
     "iopub.status.idle": "2025-07-11T13:27:10.371849Z",
     "shell.execute_reply": "2025-07-11T13:27:10.371431Z",
     "shell.execute_reply.started": "2025-07-11T13:27:10.367474Z"
    }
   },
   "outputs": [
    {
     "data": {
      "text/plain": [
       "PearsonRResult(statistic=np.float64(0.75763472172377), pvalue=np.float64(0.0))"
      ]
     },
     "execution_count": 22,
     "metadata": {},
     "output_type": "execute_result"
    }
   ],
   "source": [
    "pearsonr(data['pred'], data['y_true'])"
   ]
  },
  {
   "cell_type": "code",
   "execution_count": 13,
   "id": "72f3a422-2c79-47dd-9be1-7b28d1263e52",
   "metadata": {
    "execution": {
     "iopub.execute_input": "2025-07-11T13:23:01.976208Z",
     "iopub.status.busy": "2025-07-11T13:23:01.975929Z",
     "iopub.status.idle": "2025-07-11T13:23:01.985526Z",
     "shell.execute_reply": "2025-07-11T13:23:01.985149Z",
     "shell.execute_reply.started": "2025-07-11T13:23:01.976192Z"
    }
   },
   "outputs": [],
   "source": [
    "data_nosplice = pd.read_csv('CDS-LM-X-test_preds.csv', index_col=0)"
   ]
  },
  {
   "cell_type": "code",
   "execution_count": 15,
   "id": "c2542932-0f03-4358-b063-304990c5d4b9",
   "metadata": {
    "execution": {
     "iopub.execute_input": "2025-07-11T13:23:34.100997Z",
     "iopub.status.busy": "2025-07-11T13:23:34.100660Z",
     "iopub.status.idle": "2025-07-11T13:23:34.104088Z",
     "shell.execute_reply": "2025-07-11T13:23:34.103686Z",
     "shell.execute_reply.started": "2025-07-11T13:23:34.100981Z"
    }
   },
   "outputs": [],
   "source": [
    "data['pred_x'] = data_nosplice['pred']"
   ]
  },
  {
   "cell_type": "code",
   "execution_count": 19,
   "id": "3482856c-a579-459a-be6b-0d4b7dad9995",
   "metadata": {
    "execution": {
     "iopub.execute_input": "2025-07-11T13:25:08.763074Z",
     "iopub.status.busy": "2025-07-11T13:25:08.762716Z",
     "iopub.status.idle": "2025-07-11T13:25:08.766217Z",
     "shell.execute_reply": "2025-07-11T13:25:08.765817Z",
     "shell.execute_reply.started": "2025-07-11T13:25:08.763058Z"
    }
   },
   "outputs": [],
   "source": [
    "data['ens_pred'] = data['pred'] * (2/3) + data['pred_x'] * (1/3)"
   ]
  },
  {
   "cell_type": "code",
   "execution_count": 20,
   "id": "ed1f0332-9b75-4661-ba2e-c23d9e260821",
   "metadata": {
    "execution": {
     "iopub.execute_input": "2025-07-11T13:25:10.491348Z",
     "iopub.status.busy": "2025-07-11T13:25:10.490891Z",
     "iopub.status.idle": "2025-07-11T13:25:10.577599Z",
     "shell.execute_reply": "2025-07-11T13:25:10.577151Z",
     "shell.execute_reply.started": "2025-07-11T13:25:10.491333Z"
    }
   },
   "outputs": [
    {
     "data": {
      "text/plain": [
       "SignificanceResult(statistic=np.float64(0.7492354176371746), pvalue=np.float64(0.0))"
      ]
     },
     "execution_count": 20,
     "metadata": {},
     "output_type": "execute_result"
    }
   ],
   "source": [
    "spearmanr(data['ens_pred'], data['y_true'])"
   ]
  },
  {
   "cell_type": "code",
   "execution_count": 5,
   "id": "9f3deef5-7ac0-41eb-9268-d800ea41c3db",
   "metadata": {
    "execution": {
     "iopub.execute_input": "2025-07-18T12:48:25.301688Z",
     "iopub.status.busy": "2025-07-18T12:48:25.301150Z",
     "iopub.status.idle": "2025-07-18T12:48:25.465315Z",
     "shell.execute_reply": "2025-07-18T12:48:25.464864Z",
     "shell.execute_reply.started": "2025-07-18T12:48:25.301671Z"
    }
   },
   "outputs": [
    {
     "name": "stdout",
     "output_type": "stream",
     "text": [
      "<KeysViewHDF5 ['genes', 'targets']>\n"
     ]
    },
    {
     "ename": "NameError",
     "evalue": "name 'preds' is not defined",
     "output_type": "error",
     "traceback": [
      "\u001b[31m---------------------------------------------------------------------------\u001b[39m",
      "\u001b[31mNameError\u001b[39m                                 Traceback (most recent call last)",
      "\u001b[36mCell\u001b[39m\u001b[36m \u001b[39m\u001b[32mIn[5]\u001b[39m\u001b[32m, line 5\u001b[39m\n\u001b[32m      3\u001b[39m \u001b[38;5;28;01mwith\u001b[39;00m h5py.File(\u001b[33m'\u001b[39m\u001b[33m/home/jovyan/shared/toby/cds-lm/saluki_data/datasets/deeplearning/train_gru/f0_c0/test0/targets.h5\u001b[39m\u001b[33m'\u001b[39m, \u001b[33m\"\u001b[39m\u001b[33mr\u001b[39m\u001b[33m\"\u001b[39m) \u001b[38;5;28;01mas\u001b[39;00m f:\n\u001b[32m      4\u001b[39m     \u001b[38;5;28mprint\u001b[39m(f.keys())\n\u001b[32m----> \u001b[39m\u001b[32m5\u001b[39m \u001b[43mpreds\u001b[49m[:,\u001b[32m0\u001b[39m].shape\n\u001b[32m      6\u001b[39m preds.shape\n",
      "\u001b[31mNameError\u001b[39m: name 'preds' is not defined"
     ]
    }
   ],
   "source": [
    "with h5py.File('/home/jovyan/shared/toby/cds-lm/saluki_data/datasets/deeplearning/train_gru/f0_c0/test0/targets.h5', \"r\") as f:\n",
    "    print(f.keys())\n",
    "preds[:,0].shape\n",
    "preds.shape"
   ]
  },
  {
   "cell_type": "code",
   "execution_count": 42,
   "id": "8fb7b13e-47fa-4bff-a126-0a99d65dba62",
   "metadata": {
    "execution": {
     "iopub.execute_input": "2025-07-11T14:59:02.039397Z",
     "iopub.status.busy": "2025-07-11T14:59:02.039017Z",
     "iopub.status.idle": "2025-07-11T14:59:02.043268Z",
     "shell.execute_reply": "2025-07-11T14:59:02.042821Z",
     "shell.execute_reply.started": "2025-07-11T14:59:02.039374Z"
    }
   },
   "outputs": [
    {
     "data": {
      "text/plain": [
       "array([[0.],\n",
       "       [0.],\n",
       "       [0.],\n",
       "       [0.]], dtype=float16)"
      ]
     },
     "execution_count": 42,
     "metadata": {},
     "output_type": "execute_result"
    }
   ],
   "source": [
    "arr[0][0]"
   ]
  },
  {
   "cell_type": "code",
   "execution_count": 168,
   "id": "353bbea7-b883-4c48-b0e7-b78c6cdab03c",
   "metadata": {
    "execution": {
     "iopub.execute_input": "2025-07-14T12:43:54.318313Z",
     "iopub.status.busy": "2025-07-14T12:43:54.317965Z",
     "iopub.status.idle": "2025-07-14T12:43:54.797547Z",
     "shell.execute_reply": "2025-07-14T12:43:54.797053Z",
     "shell.execute_reply.started": "2025-07-14T12:43:54.318288Z"
    }
   },
   "outputs": [
    {
     "name": "stdout",
     "output_type": "stream",
     "text": [
      "<KeysViewHDF5 ['coding', 'genes', 'ism', 'ref', 'seqs', 'splice']>\n",
      "[[0.1685 ]\n",
      " [0.08484]\n",
      " [1.186  ]\n",
      " ...\n",
      " [1.113  ]\n",
      " [0.755  ]\n",
      " [0.7163 ]]\n"
     ]
    }
   ],
   "source": [
    "with h5py.File(\"/home/jovyan/shared/toby/cds-lm/saluki_data/datasets/deeplearning/ISM/f0_scores.h5\", \"r\") as f:\n",
    "    print(f.keys())\n",
    "    print(np.array(f['ref']))\n",
    "    data = np.array(f['ism']).squeeze()[0,-3,:]"
   ]
  },
  {
   "cell_type": "code",
   "execution_count": 169,
   "id": "cb5e720d-b410-42f0-920c-773a483072d8",
   "metadata": {
    "execution": {
     "iopub.execute_input": "2025-07-14T12:43:55.160580Z",
     "iopub.status.busy": "2025-07-14T12:43:55.160337Z",
     "iopub.status.idle": "2025-07-14T12:43:55.163547Z",
     "shell.execute_reply": "2025-07-14T12:43:55.163167Z",
     "shell.execute_reply.started": "2025-07-14T12:43:55.160566Z"
    }
   },
   "outputs": [
    {
     "data": {
      "text/plain": [
       "np.float16(2.4e-07)"
      ]
     },
     "execution_count": 169,
     "metadata": {},
     "output_type": "execute_result"
    }
   ],
   "source": [
    "data.mean()"
   ]
  },
  {
   "cell_type": "code",
   "execution_count": 6,
   "id": "7d82ea53-d9c2-4bac-a013-476a5d4f709f",
   "metadata": {
    "execution": {
     "iopub.execute_input": "2025-07-18T12:48:30.882592Z",
     "iopub.status.busy": "2025-07-18T12:48:30.882172Z",
     "iopub.status.idle": "2025-07-18T12:48:32.895193Z",
     "shell.execute_reply": "2025-07-18T12:48:32.894640Z",
     "shell.execute_reply.started": "2025-07-18T12:48:30.882561Z"
    }
   },
   "outputs": [],
   "source": [
    "root_dir = \"/home/jovyan/shared/toby/cds-lm/saluki_data/datasets/deeplearning/train_gru\"\n",
    "\n",
    "all_dfs = []\n",
    "\n",
    "for fold in range(10):\n",
    "    for cross in range(5):\n",
    "        folder = f\"f{fold}_c{cross}/test0/\"\n",
    "        \n",
    "        preds_path = os.path.join(root_dir, folder, \"preds.h5\")\n",
    "        targets_path = os.path.join(root_dir, folder, \"targets.h5\")\n",
    "        \n",
    "        if not (os.path.exists(preds_path) and os.path.exists(targets_path)):\n",
    "            print(f\"Missing files in {folder}\")\n",
    "            continue\n",
    "        \n",
    "        # Load predictions and targets\n",
    "        with h5py.File(preds_path, \"r\") as f:\n",
    "            preds = np.squeeze(np.array(f['preds']))\n",
    "            gene = np.squeeze(np.array(f['genes']))\n",
    "        with h5py.File(targets_path, \"r\") as f:\n",
    "            targets = np.squeeze(np.array(f['targets']))\n",
    "        \n",
    "        # Combine side by side\n",
    "        df = pd.DataFrame({'gene': gene, 'preds': preds, 'targets': targets})\n",
    "        \n",
    "        # Add fold and cross columns\n",
    "        df[\"fold\"] = fold\n",
    "        df[\"cross\"] = cross\n",
    "        \n",
    "        all_dfs.append(df)\n",
    "\n",
    "# Combine all\n",
    "full_df = pd.concat(all_dfs, ignore_index=True)"
   ]
  },
  {
   "cell_type": "code",
   "execution_count": 7,
   "id": "9d0ccd4d-fd9d-48af-b69a-e14426314705",
   "metadata": {
    "execution": {
     "iopub.execute_input": "2025-07-18T12:48:33.796903Z",
     "iopub.status.busy": "2025-07-18T12:48:33.796416Z",
     "iopub.status.idle": "2025-07-18T12:48:33.814387Z",
     "shell.execute_reply": "2025-07-18T12:48:33.814043Z",
     "shell.execute_reply.started": "2025-07-18T12:48:33.796883Z"
    }
   },
   "outputs": [
    {
     "name": "stderr",
     "output_type": "stream",
     "text": [
      "/opt/saturncloud/envs/saturn/lib/python3.12/site-packages/pandas/io/formats/format.py:1458: RuntimeWarning: overflow encountered in cast\n",
      "  has_large_values = (abs_vals > 1e6).any()\n"
     ]
    },
    {
     "data": {
      "text/html": [
       "<div>\n",
       "<style scoped>\n",
       "    .dataframe tbody tr th:only-of-type {\n",
       "        vertical-align: middle;\n",
       "    }\n",
       "\n",
       "    .dataframe tbody tr th {\n",
       "        vertical-align: top;\n",
       "    }\n",
       "\n",
       "    .dataframe thead th {\n",
       "        text-align: right;\n",
       "    }\n",
       "</style>\n",
       "<table border=\"1\" class=\"dataframe\">\n",
       "  <thead>\n",
       "    <tr style=\"text-align: right;\">\n",
       "      <th></th>\n",
       "      <th>gene</th>\n",
       "      <th>preds</th>\n",
       "      <th>targets</th>\n",
       "      <th>fold</th>\n",
       "      <th>cross</th>\n",
       "    </tr>\n",
       "  </thead>\n",
       "  <tbody>\n",
       "    <tr>\n",
       "      <th>0</th>\n",
       "      <td>b'ENSG00000000457'</td>\n",
       "      <td>0.168457</td>\n",
       "      <td>-1.437500</td>\n",
       "      <td>0</td>\n",
       "      <td>0</td>\n",
       "    </tr>\n",
       "    <tr>\n",
       "      <th>1</th>\n",
       "      <td>b'ENSG00000001631'</td>\n",
       "      <td>0.084839</td>\n",
       "      <td>-0.184937</td>\n",
       "      <td>0</td>\n",
       "      <td>0</td>\n",
       "    </tr>\n",
       "    <tr>\n",
       "      <th>2</th>\n",
       "      <td>b'ENSG00000002549'</td>\n",
       "      <td>1.185547</td>\n",
       "      <td>1.395508</td>\n",
       "      <td>0</td>\n",
       "      <td>0</td>\n",
       "    </tr>\n",
       "    <tr>\n",
       "      <th>3</th>\n",
       "      <td>b'ENSG00000003137'</td>\n",
       "      <td>0.714844</td>\n",
       "      <td>-0.657227</td>\n",
       "      <td>0</td>\n",
       "      <td>0</td>\n",
       "    </tr>\n",
       "    <tr>\n",
       "      <th>4</th>\n",
       "      <td>b'ENSG00000003987'</td>\n",
       "      <td>0.377930</td>\n",
       "      <td>0.064392</td>\n",
       "      <td>0</td>\n",
       "      <td>0</td>\n",
       "    </tr>\n",
       "    <tr>\n",
       "      <th>...</th>\n",
       "      <td>...</td>\n",
       "      <td>...</td>\n",
       "      <td>...</td>\n",
       "      <td>...</td>\n",
       "      <td>...</td>\n",
       "    </tr>\n",
       "    <tr>\n",
       "      <th>64835</th>\n",
       "      <td>b'ENSG00000273045'</td>\n",
       "      <td>-0.535645</td>\n",
       "      <td>-0.976074</td>\n",
       "      <td>9</td>\n",
       "      <td>4</td>\n",
       "    </tr>\n",
       "    <tr>\n",
       "      <th>64836</th>\n",
       "      <td>b'ENSG00000274286'</td>\n",
       "      <td>-0.708496</td>\n",
       "      <td>-0.480713</td>\n",
       "      <td>9</td>\n",
       "      <td>4</td>\n",
       "    </tr>\n",
       "    <tr>\n",
       "      <th>64837</th>\n",
       "      <td>b'ENSG00000275004'</td>\n",
       "      <td>-2.140625</td>\n",
       "      <td>-1.830078</td>\n",
       "      <td>9</td>\n",
       "      <td>4</td>\n",
       "    </tr>\n",
       "    <tr>\n",
       "      <th>64838</th>\n",
       "      <td>b'ENSG00000275183'</td>\n",
       "      <td>-1.353516</td>\n",
       "      <td>-1.360352</td>\n",
       "      <td>9</td>\n",
       "      <td>4</td>\n",
       "    </tr>\n",
       "    <tr>\n",
       "      <th>64839</th>\n",
       "      <td>b'ENSG00000275410'</td>\n",
       "      <td>-1.050781</td>\n",
       "      <td>-0.498779</td>\n",
       "      <td>9</td>\n",
       "      <td>4</td>\n",
       "    </tr>\n",
       "  </tbody>\n",
       "</table>\n",
       "<p>64840 rows × 5 columns</p>\n",
       "</div>"
      ],
      "text/plain": [
       "                     gene     preds   targets  fold  cross\n",
       "0      b'ENSG00000000457'  0.168457 -1.437500     0      0\n",
       "1      b'ENSG00000001631'  0.084839 -0.184937     0      0\n",
       "2      b'ENSG00000002549'  1.185547  1.395508     0      0\n",
       "3      b'ENSG00000003137'  0.714844 -0.657227     0      0\n",
       "4      b'ENSG00000003987'  0.377930  0.064392     0      0\n",
       "...                   ...       ...       ...   ...    ...\n",
       "64835  b'ENSG00000273045' -0.535645 -0.976074     9      4\n",
       "64836  b'ENSG00000274286' -0.708496 -0.480713     9      4\n",
       "64837  b'ENSG00000275004' -2.140625 -1.830078     9      4\n",
       "64838  b'ENSG00000275183' -1.353516 -1.360352     9      4\n",
       "64839  b'ENSG00000275410' -1.050781 -0.498779     9      4\n",
       "\n",
       "[64840 rows x 5 columns]"
      ]
     },
     "execution_count": 7,
     "metadata": {},
     "output_type": "execute_result"
    }
   ],
   "source": [
    "full_df"
   ]
  },
  {
   "cell_type": "code",
   "execution_count": 75,
   "id": "19dc667a-ced9-41b6-bb4e-46d8a0a63064",
   "metadata": {
    "execution": {
     "iopub.execute_input": "2025-07-11T15:21:54.666229Z",
     "iopub.status.busy": "2025-07-11T15:21:54.665832Z",
     "iopub.status.idle": "2025-07-11T15:21:54.682554Z",
     "shell.execute_reply": "2025-07-11T15:21:54.682069Z",
     "shell.execute_reply.started": "2025-07-11T15:21:54.666209Z"
    }
   },
   "outputs": [],
   "source": [
    "mean_df = full_df.groupby('gene')[['preds', 'targets']].mean()"
   ]
  },
  {
   "cell_type": "code",
   "execution_count": 76,
   "id": "76bfc9b7-971c-41e2-b7fe-950e69187256",
   "metadata": {
    "execution": {
     "iopub.execute_input": "2025-07-11T15:21:54.964800Z",
     "iopub.status.busy": "2025-07-11T15:21:54.964365Z",
     "iopub.status.idle": "2025-07-11T15:21:54.970321Z",
     "shell.execute_reply": "2025-07-11T15:21:54.969971Z",
     "shell.execute_reply.started": "2025-07-11T15:21:54.964783Z"
    }
   },
   "outputs": [
    {
     "data": {
      "text/html": [
       "<div>\n",
       "<style scoped>\n",
       "    .dataframe tbody tr th:only-of-type {\n",
       "        vertical-align: middle;\n",
       "    }\n",
       "\n",
       "    .dataframe tbody tr th {\n",
       "        vertical-align: top;\n",
       "    }\n",
       "\n",
       "    .dataframe thead th {\n",
       "        text-align: right;\n",
       "    }\n",
       "</style>\n",
       "<table border=\"1\" class=\"dataframe\">\n",
       "  <thead>\n",
       "    <tr style=\"text-align: right;\">\n",
       "      <th></th>\n",
       "      <th>preds</th>\n",
       "      <th>targets</th>\n",
       "    </tr>\n",
       "    <tr>\n",
       "      <th>gene</th>\n",
       "      <th></th>\n",
       "      <th></th>\n",
       "    </tr>\n",
       "  </thead>\n",
       "  <tbody>\n",
       "    <tr>\n",
       "      <th>b'ENSG00000000003'</th>\n",
       "      <td>1.366211</td>\n",
       "      <td>1.793945</td>\n",
       "    </tr>\n",
       "    <tr>\n",
       "      <th>b'ENSG00000000457'</th>\n",
       "      <td>-0.166663</td>\n",
       "      <td>-1.437500</td>\n",
       "    </tr>\n",
       "    <tr>\n",
       "      <th>b'ENSG00000000460'</th>\n",
       "      <td>0.406775</td>\n",
       "      <td>0.090027</td>\n",
       "    </tr>\n",
       "    <tr>\n",
       "      <th>b'ENSG00000000938'</th>\n",
       "      <td>1.303125</td>\n",
       "      <td>-0.197021</td>\n",
       "    </tr>\n",
       "    <tr>\n",
       "      <th>b'ENSG00000000971'</th>\n",
       "      <td>-0.009277</td>\n",
       "      <td>1.599609</td>\n",
       "    </tr>\n",
       "    <tr>\n",
       "      <th>...</th>\n",
       "      <td>...</td>\n",
       "      <td>...</td>\n",
       "    </tr>\n",
       "    <tr>\n",
       "      <th>b'ENSG00000278615'</th>\n",
       "      <td>0.639941</td>\n",
       "      <td>0.260498</td>\n",
       "    </tr>\n",
       "    <tr>\n",
       "      <th>b'ENSG00000278619'</th>\n",
       "      <td>-0.508740</td>\n",
       "      <td>-0.278076</td>\n",
       "    </tr>\n",
       "    <tr>\n",
       "      <th>b'ENSG00000278845'</th>\n",
       "      <td>0.274951</td>\n",
       "      <td>0.384766</td>\n",
       "    </tr>\n",
       "    <tr>\n",
       "      <th>b'ENSG00000280789'</th>\n",
       "      <td>-1.413574</td>\n",
       "      <td>-0.500977</td>\n",
       "    </tr>\n",
       "    <tr>\n",
       "      <th>b'ENSG00000281991'</th>\n",
       "      <td>0.791797</td>\n",
       "      <td>-1.113281</td>\n",
       "    </tr>\n",
       "  </tbody>\n",
       "</table>\n",
       "<p>12968 rows × 2 columns</p>\n",
       "</div>"
      ],
      "text/plain": [
       "                       preds   targets\n",
       "gene                                  \n",
       "b'ENSG00000000003'  1.366211  1.793945\n",
       "b'ENSG00000000457' -0.166663 -1.437500\n",
       "b'ENSG00000000460'  0.406775  0.090027\n",
       "b'ENSG00000000938'  1.303125 -0.197021\n",
       "b'ENSG00000000971' -0.009277  1.599609\n",
       "...                      ...       ...\n",
       "b'ENSG00000278615'  0.639941  0.260498\n",
       "b'ENSG00000278619' -0.508740 -0.278076\n",
       "b'ENSG00000278845'  0.274951  0.384766\n",
       "b'ENSG00000280789' -1.413574 -0.500977\n",
       "b'ENSG00000281991'  0.791797 -1.113281\n",
       "\n",
       "[12968 rows x 2 columns]"
      ]
     },
     "execution_count": 76,
     "metadata": {},
     "output_type": "execute_result"
    }
   ],
   "source": [
    "mean_df"
   ]
  },
  {
   "cell_type": "code",
   "execution_count": 77,
   "id": "27bef69f-cd5b-449c-8d1e-10f6bc96d5f5",
   "metadata": {
    "execution": {
     "iopub.execute_input": "2025-07-11T15:21:55.343888Z",
     "iopub.status.busy": "2025-07-11T15:21:55.343432Z",
     "iopub.status.idle": "2025-07-11T15:21:55.377119Z",
     "shell.execute_reply": "2025-07-11T15:21:55.376666Z",
     "shell.execute_reply.started": "2025-07-11T15:21:55.343875Z"
    }
   },
   "outputs": [
    {
     "data": {
      "text/plain": [
       "SignificanceResult(statistic=np.float64(0.7641120326938552), pvalue=np.float64(0.0))"
      ]
     },
     "execution_count": 77,
     "metadata": {},
     "output_type": "execute_result"
    }
   ],
   "source": [
    "spearmanr(mean_df['preds'], mean_df['targets'])"
   ]
  },
  {
   "cell_type": "code",
   "execution_count": 103,
   "id": "5b78d9a8-efc5-4097-ad11-5d59a51c0f0a",
   "metadata": {
    "execution": {
     "iopub.execute_input": "2025-07-18T14:43:37.235158Z",
     "iopub.status.busy": "2025-07-18T14:43:37.234751Z",
     "iopub.status.idle": "2025-07-18T14:43:39.200750Z",
     "shell.execute_reply": "2025-07-18T14:43:39.200103Z",
     "shell.execute_reply.started": "2025-07-18T14:43:37.235138Z"
    }
   },
   "outputs": [],
   "source": [
    "res_dict = {'cross': [], 'fold': [], 'rho': []}\n",
    "for cross in range(5):\n",
    "    for fold in range(10):\n",
    "        df_copy = full_df[full_df['cross'] == cross]\n",
    "        df_fold = df_copy[df_copy['fold'] == fold].copy()\n",
    "        rho, _ = spearmanr(df_fold['preds'], df_fold['targets'])\n",
    "        res_dict['cross'].append(cross)\n",
    "        res_dict['fold'].append(fold)\n",
    "        res_dict['rho'].append(rho)\n",
    "per_fold_res = pd.DataFrame(res_dict)"
   ]
  },
  {
   "cell_type": "code",
   "execution_count": 154,
   "id": "4a8d6c65-043f-444f-ac42-8f1872c08b8b",
   "metadata": {
    "execution": {
     "iopub.execute_input": "2025-07-18T15:19:11.010907Z",
     "iopub.status.busy": "2025-07-18T15:19:11.010474Z",
     "iopub.status.idle": "2025-07-18T15:20:29.104889Z",
     "shell.execute_reply": "2025-07-18T15:20:29.104328Z",
     "shell.execute_reply.started": "2025-07-18T15:19:11.010883Z"
    }
   },
   "outputs": [
    {
     "data": {
      "text/plain": [
       "<Axes: xlabel='preds', ylabel='targets'>"
      ]
     },
     "execution_count": 154,
     "metadata": {},
     "output_type": "execute_result"
    },
    {
     "data": {
      "image/png": "[encoded data removed]",
      "text/plain": [
       "<Figure size 640x480 with 1 Axes>"
      ]
     },
     "metadata": {},
     "output_type": "display_data"
    }
   ],
   "source": [
    "import matplotlib.pyplot as plt\n",
    "import seaborn as sns\n",
    "c0 = full_df[full_df['cross'] == 0]\n",
    "sns.regplot(data = c0, x='preds', y='targets', scatter_kws={'s':1})"
   ]
  },
  {
   "cell_type": "code",
   "execution_count": 95,
   "id": "5beb42cf-2500-4a27-9b72-36284364e9a9",
   "metadata": {
    "execution": {
     "iopub.execute_input": "2025-07-18T14:18:57.821463Z",
     "iopub.status.busy": "2025-07-18T14:18:57.821087Z",
     "iopub.status.idle": "2025-07-18T14:18:58.296082Z",
     "shell.execute_reply": "2025-07-18T14:18:58.200424Z",
     "shell.execute_reply.started": "2025-07-18T14:18:57.821445Z"
    }
   },
   "outputs": [
    {
     "name": "stdout",
     "output_type": "stream",
     "text": [
      "0.711215501725911\n",
      "0.7423736981236774\n",
      "0.731475061464832\n",
      "0.7398040426471512\n",
      "0.7409847338571558\n"
     ]
    }
   ],
   "source": [
    "for cross in range(5):\n",
    "    df_copy = full_df[full_df['cross'] == cross]\n",
    "    rho, _ = spearmanr(df_copy['preds'], df_copy['targets'])\n",
    "    print(rho)"
   ]
  },
  {
   "cell_type": "code",
   "execution_count": 22,
   "id": "72e790f6-9791-4ae9-9c2b-4ae69ef0784f",
   "metadata": {
    "execution": {
     "iopub.execute_input": "2025-07-18T12:55:38.411913Z",
     "iopub.status.busy": "2025-07-18T12:55:38.411532Z",
     "iopub.status.idle": "2025-07-18T12:55:38.416560Z",
     "shell.execute_reply": "2025-07-18T12:55:38.416113Z",
     "shell.execute_reply.started": "2025-07-18T12:55:38.411896Z"
    }
   },
   "outputs": [
    {
     "name": "stdout",
     "output_type": "stream",
     "text": [
      "0.7441945675375725\n",
      "0.7476958089787943\n",
      "0.7488465189544417\n",
      "0.7470944971342688\n",
      "0.7467989657674153\n"
     ]
    }
   ],
   "source": [
    "for cross in range(5):\n",
    "    df_copy = per_fold_res[per_fold_res['cross'] == cross]\n",
    "    print(df_copy['rho'].mean())"
   ]
  },
  {
   "cell_type": "code",
   "execution_count": 8,
   "id": "7806db67-a613-41a8-b4e4-d861c04d8caf",
   "metadata": {
    "execution": {
     "iopub.execute_input": "2025-07-18T12:48:42.156612Z",
     "iopub.status.busy": "2025-07-18T12:48:42.156229Z",
     "iopub.status.idle": "2025-07-18T12:48:42.173538Z",
     "shell.execute_reply": "2025-07-18T12:48:42.173149Z",
     "shell.execute_reply.started": "2025-07-18T12:48:42.156593Z"
    }
   },
   "outputs": [],
   "source": [
    "full_df['gene'] = full_df['gene'].apply(\n",
    "    lambda x: x.decode('utf-8').strip() if isinstance(x, bytes) else x\n",
    ")"
   ]
  },
  {
   "cell_type": "code",
   "execution_count": 12,
   "id": "e325df46-a266-4d8c-9fdd-d257f75fab14",
   "metadata": {
    "execution": {
     "iopub.execute_input": "2025-07-18T12:49:29.268281Z",
     "iopub.status.busy": "2025-07-18T12:49:29.267891Z",
     "iopub.status.idle": "2025-07-18T12:49:29.382619Z",
     "shell.execute_reply": "2025-07-18T12:49:29.382227Z",
     "shell.execute_reply.started": "2025-07-18T12:49:29.268262Z"
    }
   },
   "outputs": [],
   "source": [
    "full_df.to_csv('./saluki_preds.csv')"
   ]
  },
  {
   "cell_type": "code",
   "execution_count": 28,
   "id": "d31105f5-6fb8-4750-923b-3f528d3d5b49",
   "metadata": {
    "execution": {
     "iopub.execute_input": "2025-07-18T13:09:26.984770Z",
     "iopub.status.busy": "2025-07-18T13:09:26.984393Z",
     "iopub.status.idle": "2025-07-18T13:09:27.725810Z",
     "shell.execute_reply": "2025-07-18T13:09:27.725296Z",
     "shell.execute_reply.started": "2025-07-18T13:09:26.984751Z"
    }
   },
   "outputs": [],
   "source": [
    "data = pd.read_csv('../CDS-LM/data/finetuning/saluki/human_sss_reprocessed.csv')"
   ]
  },
  {
   "cell_type": "code",
   "execution_count": 25,
   "id": "27fb8089-634b-427c-8d9e-a3d87e2c6e22",
   "metadata": {
    "execution": {
     "iopub.execute_input": "2025-07-18T13:08:37.965615Z",
     "iopub.status.busy": "2025-07-18T13:08:37.965241Z",
     "iopub.status.idle": "2025-07-18T13:08:37.978873Z",
     "shell.execute_reply": "2025-07-18T13:08:37.978467Z",
     "shell.execute_reply.started": "2025-07-18T13:08:37.965599Z"
    }
   },
   "outputs": [
    {
     "data": {
      "text/html": [
       "<div>\n",
       "<style scoped>\n",
       "    .dataframe tbody tr th:only-of-type {\n",
       "        vertical-align: middle;\n",
       "    }\n",
       "\n",
       "    .dataframe tbody tr th {\n",
       "        vertical-align: top;\n",
       "    }\n",
       "\n",
       "    .dataframe thead th {\n",
       "        text-align: right;\n",
       "    }\n",
       "</style>\n",
       "<table border=\"1\" class=\"dataframe\">\n",
       "  <thead>\n",
       "    <tr style=\"text-align: right;\">\n",
       "      <th></th>\n",
       "      <th>pred</th>\n",
       "      <th>y_true</th>\n",
       "    </tr>\n",
       "  </thead>\n",
       "  <tbody>\n",
       "    <tr>\n",
       "      <th>0</th>\n",
       "      <td>0.484375</td>\n",
       "      <td>0.090027</td>\n",
       "    </tr>\n",
       "    <tr>\n",
       "      <th>1</th>\n",
       "      <td>0.269531</td>\n",
       "      <td>0.493896</td>\n",
       "    </tr>\n",
       "    <tr>\n",
       "      <th>2</th>\n",
       "      <td>0.753906</td>\n",
       "      <td>1.508789</td>\n",
       "    </tr>\n",
       "    <tr>\n",
       "      <th>3</th>\n",
       "      <td>-0.722656</td>\n",
       "      <td>-0.536133</td>\n",
       "    </tr>\n",
       "    <tr>\n",
       "      <th>4</th>\n",
       "      <td>-0.445312</td>\n",
       "      <td>-1.348633</td>\n",
       "    </tr>\n",
       "    <tr>\n",
       "      <th>...</th>\n",
       "      <td>...</td>\n",
       "      <td>...</td>\n",
       "    </tr>\n",
       "    <tr>\n",
       "      <th>12909</th>\n",
       "      <td>-1.679688</td>\n",
       "      <td>-1.743164</td>\n",
       "    </tr>\n",
       "    <tr>\n",
       "      <th>12910</th>\n",
       "      <td>-1.398438</td>\n",
       "      <td>-1.372070</td>\n",
       "    </tr>\n",
       "    <tr>\n",
       "      <th>12911</th>\n",
       "      <td>-1.976562</td>\n",
       "      <td>-2.175781</td>\n",
       "    </tr>\n",
       "    <tr>\n",
       "      <th>12912</th>\n",
       "      <td>0.194336</td>\n",
       "      <td>-1.517578</td>\n",
       "    </tr>\n",
       "    <tr>\n",
       "      <th>12913</th>\n",
       "      <td>0.792969</td>\n",
       "      <td>0.701172</td>\n",
       "    </tr>\n",
       "  </tbody>\n",
       "</table>\n",
       "<p>12914 rows × 2 columns</p>\n",
       "</div>"
      ],
      "text/plain": [
       "           pred    y_true\n",
       "0      0.484375  0.090027\n",
       "1      0.269531  0.493896\n",
       "2      0.753906  1.508789\n",
       "3     -0.722656 -0.536133\n",
       "4     -0.445312 -1.348633\n",
       "...         ...       ...\n",
       "12909 -1.679688 -1.743164\n",
       "12910 -1.398438 -1.372070\n",
       "12911 -1.976562 -2.175781\n",
       "12912  0.194336 -1.517578\n",
       "12913  0.792969  0.701172\n",
       "\n",
       "[12914 rows x 2 columns]"
      ]
     },
     "execution_count": 25,
     "metadata": {},
     "output_type": "execute_result"
    }
   ],
   "source": [
    "preds = pd.read_csv('./sss_all_preds.csv', index_col=0)\n",
    "preds"
   ]
  },
  {
   "cell_type": "code",
   "execution_count": 29,
   "id": "239b62d8-903e-4284-8fd4-2c2b6f095a13",
   "metadata": {
    "execution": {
     "iopub.execute_input": "2025-07-18T13:09:29.479470Z",
     "iopub.status.busy": "2025-07-18T13:09:29.479081Z",
     "iopub.status.idle": "2025-07-18T13:09:29.483320Z",
     "shell.execute_reply": "2025-07-18T13:09:29.482918Z",
     "shell.execute_reply.started": "2025-07-18T13:09:29.479453Z"
    }
   },
   "outputs": [],
   "source": [
    "preds['gene'] = data['Gene']\n",
    "preds['fold'] = data['split']\n",
    "preds['cross'] = 5"
   ]
  },
  {
   "cell_type": "code",
   "execution_count": 112,
   "id": "14b6e1c8-6bc1-441e-bad5-49a9c8f5e122",
   "metadata": {
    "execution": {
     "iopub.execute_input": "2025-07-14T09:54:32.439390Z",
     "iopub.status.busy": "2025-07-14T09:54:32.438959Z",
     "iopub.status.idle": "2025-07-14T09:54:32.442220Z",
     "shell.execute_reply": "2025-07-14T09:54:32.441791Z",
     "shell.execute_reply.started": "2025-07-14T09:54:32.439364Z"
    }
   },
   "outputs": [],
   "source": [
    "preds.rename(columns={'y_true': 'targets', 'pred': 'preds'}, inplace=True)"
   ]
  },
  {
   "cell_type": "code",
   "execution_count": 113,
   "id": "33ac99ea-6430-41ed-bf35-ae9f1d6c4417",
   "metadata": {
    "execution": {
     "iopub.execute_input": "2025-07-14T09:54:32.903099Z",
     "iopub.status.busy": "2025-07-14T09:54:32.902847Z",
     "iopub.status.idle": "2025-07-14T09:54:32.908339Z",
     "shell.execute_reply": "2025-07-14T09:54:32.907959Z",
     "shell.execute_reply.started": "2025-07-14T09:54:32.903081Z"
    }
   },
   "outputs": [],
   "source": [
    "df_plus = pd.concat([full_df, preds])"
   ]
  },
  {
   "cell_type": "code",
   "execution_count": 114,
   "id": "e6d924c8-2f16-405e-9d0d-4e461ee79b47",
   "metadata": {
    "execution": {
     "iopub.execute_input": "2025-07-14T09:54:33.501791Z",
     "iopub.status.busy": "2025-07-14T09:54:33.501407Z",
     "iopub.status.idle": "2025-07-14T09:54:33.507502Z",
     "shell.execute_reply": "2025-07-14T09:54:33.507162Z",
     "shell.execute_reply.started": "2025-07-14T09:54:33.501778Z"
    }
   },
   "outputs": [
    {
     "data": {
      "text/html": [
       "<div>\n",
       "<style scoped>\n",
       "    .dataframe tbody tr th:only-of-type {\n",
       "        vertical-align: middle;\n",
       "    }\n",
       "\n",
       "    .dataframe tbody tr th {\n",
       "        vertical-align: top;\n",
       "    }\n",
       "\n",
       "    .dataframe thead th {\n",
       "        text-align: right;\n",
       "    }\n",
       "</style>\n",
       "<table border=\"1\" class=\"dataframe\">\n",
       "  <thead>\n",
       "    <tr style=\"text-align: right;\">\n",
       "      <th></th>\n",
       "      <th>gene</th>\n",
       "      <th>preds</th>\n",
       "      <th>targets</th>\n",
       "      <th>fold</th>\n",
       "      <th>cross</th>\n",
       "    </tr>\n",
       "  </thead>\n",
       "  <tbody>\n",
       "    <tr>\n",
       "      <th>0</th>\n",
       "      <td>ENSG00000000457</td>\n",
       "      <td>0.168457</td>\n",
       "      <td>-1.437500</td>\n",
       "      <td>0</td>\n",
       "      <td>0</td>\n",
       "    </tr>\n",
       "    <tr>\n",
       "      <th>1</th>\n",
       "      <td>ENSG00000001631</td>\n",
       "      <td>0.084839</td>\n",
       "      <td>-0.184937</td>\n",
       "      <td>0</td>\n",
       "      <td>0</td>\n",
       "    </tr>\n",
       "    <tr>\n",
       "      <th>2</th>\n",
       "      <td>ENSG00000002549</td>\n",
       "      <td>1.185547</td>\n",
       "      <td>1.395508</td>\n",
       "      <td>0</td>\n",
       "      <td>0</td>\n",
       "    </tr>\n",
       "    <tr>\n",
       "      <th>3</th>\n",
       "      <td>ENSG00000003137</td>\n",
       "      <td>0.714844</td>\n",
       "      <td>-0.657227</td>\n",
       "      <td>0</td>\n",
       "      <td>0</td>\n",
       "    </tr>\n",
       "    <tr>\n",
       "      <th>4</th>\n",
       "      <td>ENSG00000003987</td>\n",
       "      <td>0.377930</td>\n",
       "      <td>0.064392</td>\n",
       "      <td>0</td>\n",
       "      <td>0</td>\n",
       "    </tr>\n",
       "    <tr>\n",
       "      <th>...</th>\n",
       "      <td>...</td>\n",
       "      <td>...</td>\n",
       "      <td>...</td>\n",
       "      <td>...</td>\n",
       "      <td>...</td>\n",
       "    </tr>\n",
       "    <tr>\n",
       "      <th>12909</th>\n",
       "      <td>ENSG00000247746</td>\n",
       "      <td>-1.679688</td>\n",
       "      <td>-1.743164</td>\n",
       "      <td>9</td>\n",
       "      <td>5</td>\n",
       "    </tr>\n",
       "    <tr>\n",
       "      <th>12910</th>\n",
       "      <td>ENSG00000189266</td>\n",
       "      <td>-1.398438</td>\n",
       "      <td>-1.372070</td>\n",
       "      <td>9</td>\n",
       "      <td>5</td>\n",
       "    </tr>\n",
       "    <tr>\n",
       "      <th>12911</th>\n",
       "      <td>ENSG00000249709</td>\n",
       "      <td>-1.976562</td>\n",
       "      <td>-2.175781</td>\n",
       "      <td>9</td>\n",
       "      <td>5</td>\n",
       "    </tr>\n",
       "    <tr>\n",
       "      <th>12912</th>\n",
       "      <td>ENSG00000189369</td>\n",
       "      <td>0.194336</td>\n",
       "      <td>-1.517578</td>\n",
       "      <td>9</td>\n",
       "      <td>5</td>\n",
       "    </tr>\n",
       "    <tr>\n",
       "      <th>12913</th>\n",
       "      <td>ENSG00000250021</td>\n",
       "      <td>0.792969</td>\n",
       "      <td>0.701172</td>\n",
       "      <td>9</td>\n",
       "      <td>5</td>\n",
       "    </tr>\n",
       "  </tbody>\n",
       "</table>\n",
       "<p>77754 rows × 5 columns</p>\n",
       "</div>"
      ],
      "text/plain": [
       "                  gene     preds   targets  fold  cross\n",
       "0      ENSG00000000457  0.168457 -1.437500     0      0\n",
       "1      ENSG00000001631  0.084839 -0.184937     0      0\n",
       "2      ENSG00000002549  1.185547  1.395508     0      0\n",
       "3      ENSG00000003137  0.714844 -0.657227     0      0\n",
       "4      ENSG00000003987  0.377930  0.064392     0      0\n",
       "...                ...       ...       ...   ...    ...\n",
       "12909  ENSG00000247746 -1.679688 -1.743164     9      5\n",
       "12910  ENSG00000189266 -1.398438 -1.372070     9      5\n",
       "12911  ENSG00000249709 -1.976562 -2.175781     9      5\n",
       "12912  ENSG00000189369  0.194336 -1.517578     9      5\n",
       "12913  ENSG00000250021  0.792969  0.701172     9      5\n",
       "\n",
       "[77754 rows x 5 columns]"
      ]
     },
     "execution_count": 114,
     "metadata": {},
     "output_type": "execute_result"
    }
   ],
   "source": [
    "df_plus"
   ]
  },
  {
   "cell_type": "code",
   "execution_count": 116,
   "id": "f9441df7-a073-43bb-a58e-12fe490be70b",
   "metadata": {
    "execution": {
     "iopub.execute_input": "2025-07-14T09:54:53.438385Z",
     "iopub.status.busy": "2025-07-14T09:54:53.437790Z",
     "iopub.status.idle": "2025-07-14T09:54:53.453499Z",
     "shell.execute_reply": "2025-07-14T09:54:53.453085Z",
     "shell.execute_reply.started": "2025-07-14T09:54:53.438369Z"
    }
   },
   "outputs": [],
   "source": [
    "mean_df = df_plus.groupby('gene')[['preds', 'targets']].mean()"
   ]
  },
  {
   "cell_type": "code",
   "execution_count": 117,
   "id": "9a3aae44-8f7e-4a32-9ebd-6fa7c13ed51a",
   "metadata": {
    "execution": {
     "iopub.execute_input": "2025-07-14T09:55:04.087313Z",
     "iopub.status.busy": "2025-07-14T09:55:04.086894Z",
     "iopub.status.idle": "2025-07-14T09:55:04.177869Z",
     "shell.execute_reply": "2025-07-14T09:55:04.177369Z",
     "shell.execute_reply.started": "2025-07-14T09:55:04.087288Z"
    }
   },
   "outputs": [
    {
     "data": {
      "text/plain": [
       "SignificanceResult(statistic=np.float64(0.7750518378576916), pvalue=np.float64(0.0))"
      ]
     },
     "execution_count": 117,
     "metadata": {},
     "output_type": "execute_result"
    }
   ],
   "source": [
    "spearmanr(mean_df['preds'], mean_df['targets'])"
   ]
  },
  {
   "cell_type": "code",
   "execution_count": 36,
   "id": "692ea7a3-bf77-4986-b7e8-436dfb3abd78",
   "metadata": {
    "execution": {
     "iopub.execute_input": "2025-07-18T13:11:58.796674Z",
     "iopub.status.busy": "2025-07-18T13:11:58.796233Z",
     "iopub.status.idle": "2025-07-18T13:11:58.812688Z",
     "shell.execute_reply": "2025-07-18T13:11:58.812237Z",
     "shell.execute_reply.started": "2025-07-18T13:11:58.796651Z"
    }
   },
   "outputs": [],
   "source": [
    "saluki_mean_df = full_df.groupby('gene')[['preds', 'targets']].mean()"
   ]
  },
  {
   "cell_type": "code",
   "execution_count": 31,
   "id": "ea1d0ab6-a9cc-4f9d-9785-ca47f9564957",
   "metadata": {
    "execution": {
     "iopub.execute_input": "2025-07-18T13:10:19.801666Z",
     "iopub.status.busy": "2025-07-18T13:10:19.801232Z",
     "iopub.status.idle": "2025-07-18T13:10:19.804916Z",
     "shell.execute_reply": "2025-07-18T13:10:19.804476Z",
     "shell.execute_reply.started": "2025-07-18T13:10:19.801645Z"
    }
   },
   "outputs": [],
   "source": [
    "preds.set_index('gene', inplace=True)"
   ]
  },
  {
   "cell_type": "code",
   "execution_count": 175,
   "id": "ba19c3a9-e5a7-4bc3-8c5c-be3b25b405d2",
   "metadata": {
    "execution": {
     "iopub.execute_input": "2025-07-15T09:48:26.970404Z",
     "iopub.status.busy": "2025-07-15T09:48:26.970088Z",
     "iopub.status.idle": "2025-07-15T09:48:26.986350Z",
     "shell.execute_reply": "2025-07-15T09:48:26.985924Z",
     "shell.execute_reply.started": "2025-07-15T09:48:26.970388Z"
    }
   },
   "outputs": [],
   "source": [
    "new_res = pd.read_csv('./CDS-LM-sss-utr-nosplice-preds.csv', index_col=0)\n",
    "new_res.index = preds.index\n",
    "new_res.rename(columns={'y_true': 'targets', 'pred': 'preds'}, inplace=True)\n",
    "new_res_dedup = new_res.groupby(new_res.index)[['preds', 'targets']].mean()"
   ]
  },
  {
   "cell_type": "code",
   "execution_count": 32,
   "id": "d8e51618-07b7-4357-a6f4-d2e946c5ff3c",
   "metadata": {
    "execution": {
     "iopub.execute_input": "2025-07-18T13:10:24.955031Z",
     "iopub.status.busy": "2025-07-18T13:10:24.954682Z",
     "iopub.status.idle": "2025-07-18T13:10:24.971750Z",
     "shell.execute_reply": "2025-07-18T13:10:24.971308Z",
     "shell.execute_reply.started": "2025-07-18T13:10:24.955013Z"
    }
   },
   "outputs": [],
   "source": [
    "new_res = pd.read_csv('CDS-LM-2048/test_preds.csv', index_col=0)\n",
    "new_res.index = preds.index\n",
    "new_res.rename(columns={'y_true': 'targets', 'pred': 'preds'}, inplace=True)\n",
    "new_res_dedup = new_res.groupby(new_res.index)[['preds', 'targets']].mean()"
   ]
  },
  {
   "cell_type": "code",
   "execution_count": 73,
   "id": "3a67d99b-7d11-4ce8-bb5e-e60f323e613a",
   "metadata": {
    "execution": {
     "iopub.execute_input": "2025-07-18T13:42:26.645219Z",
     "iopub.status.busy": "2025-07-18T13:42:26.644841Z",
     "iopub.status.idle": "2025-07-18T13:42:26.699606Z",
     "shell.execute_reply": "2025-07-18T13:42:26.699022Z",
     "shell.execute_reply.started": "2025-07-18T13:42:26.645199Z"
    }
   },
   "outputs": [
    {
     "data": {
      "text/plain": [
       "SignificanceResult(statistic=np.float64(0.7504056579383419), pvalue=np.float64(0.0))"
      ]
     },
     "execution_count": 73,
     "metadata": {},
     "output_type": "execute_result"
    }
   ],
   "source": [
    "spearmanr(new_res_dedup['preds'], new_res_dedup['targets'])"
   ]
  },
  {
   "cell_type": "code",
   "execution_count": 47,
   "id": "6e27ffd3-9c69-4913-8859-3d96bae99842",
   "metadata": {
    "execution": {
     "iopub.execute_input": "2025-07-18T13:18:07.906420Z",
     "iopub.status.busy": "2025-07-18T13:18:07.906006Z",
     "iopub.status.idle": "2025-07-18T13:18:07.986138Z",
     "shell.execute_reply": "2025-07-18T13:18:07.985420Z",
     "shell.execute_reply.started": "2025-07-18T13:18:07.906399Z"
    }
   },
   "outputs": [],
   "source": [
    "# saluki_mean_df['cds-lm-pred'] = [preds_dedup.loc[gene, 'preds'] if gene in preds_dedup.index else saluki_mean_df.loc[gene, 'preds'] for gene in saluki_mean_df.index]\n",
    "# saluki_mean_df['cds-lm-somess-pred'] = [new_res_dedup.loc[gene, 'preds'] if gene in new_res_dedup.index else saluki_mean_df.loc[gene, 'preds'] for gene in saluki_mean_df.index]\n",
    "saluki_mean_df['cds-lm-somess-pred'] = [new_res_dedup.loc[gene, 'preds'] if gene in new_res_dedup.index else None for gene in saluki_mean_df.index]"
   ]
  },
  {
   "cell_type": "code",
   "execution_count": 49,
   "id": "8e2e1318-e596-436c-b4d1-7fbfac5ac01b",
   "metadata": {
    "execution": {
     "iopub.execute_input": "2025-07-18T13:18:47.579987Z",
     "iopub.status.busy": "2025-07-18T13:18:47.579782Z",
     "iopub.status.idle": "2025-07-18T13:18:47.585287Z",
     "shell.execute_reply": "2025-07-18T13:18:47.584840Z",
     "shell.execute_reply.started": "2025-07-18T13:18:47.579972Z"
    }
   },
   "outputs": [],
   "source": [
    "saluki_mean_df['ensemble-pred'] = saluki_mean_df[['preds', 'cds-lm-somess-pred']].mean(axis=1)"
   ]
  },
  {
   "cell_type": "code",
   "execution_count": 50,
   "id": "4d0597f6-fb2d-44a4-bf63-152fbf30a36c",
   "metadata": {
    "execution": {
     "iopub.execute_input": "2025-07-18T13:18:56.574420Z",
     "iopub.status.busy": "2025-07-18T13:18:56.574094Z",
     "iopub.status.idle": "2025-07-18T13:18:56.699617Z",
     "shell.execute_reply": "2025-07-18T13:18:56.699058Z",
     "shell.execute_reply.started": "2025-07-18T13:18:56.574405Z"
    }
   },
   "outputs": [
    {
     "data": {
      "text/plain": [
       "SignificanceResult(statistic=np.float64(0.7834587071272946), pvalue=np.float64(0.0))"
      ]
     },
     "execution_count": 50,
     "metadata": {},
     "output_type": "execute_result"
    }
   ],
   "source": [
    "rho, _ = spearmanr(saluki_mean_df['ensemble-pred'], saluki_mean_df['targets'])\n"
   ]
  },
  {
   "cell_type": "code",
   "execution_count": 42,
   "id": "396ccb81-9fd3-424e-a596-f7f259c950cb",
   "metadata": {
    "execution": {
     "iopub.execute_input": "2025-07-18T13:15:43.014359Z",
     "iopub.status.busy": "2025-07-18T13:15:43.013928Z",
     "iopub.status.idle": "2025-07-18T13:15:43.020846Z",
     "shell.execute_reply": "2025-07-18T13:15:43.020355Z",
     "shell.execute_reply.started": "2025-07-18T13:15:43.014342Z"
    }
   },
   "outputs": [
    {
     "data": {
      "text/plain": [
       "SignificanceResult(statistic=np.float64(0.7498601490969218), pvalue=np.float64(0.0))"
      ]
     },
     "execution_count": 42,
     "metadata": {},
     "output_type": "execute_result"
    }
   ],
   "source": [
    "spearmanr(saluki_mean_df['cds-lm-somess-pred'], saluki_mean_df['targets'])"
   ]
  },
  {
   "cell_type": "code",
   "execution_count": 46,
   "id": "d580c06f-36bf-461f-8346-b8498150ff28",
   "metadata": {
    "execution": {
     "iopub.execute_input": "2025-07-18T13:17:11.230612Z",
     "iopub.status.busy": "2025-07-18T13:17:11.230219Z",
     "iopub.status.idle": "2025-07-18T13:17:11.236090Z",
     "shell.execute_reply": "2025-07-18T13:17:11.235553Z",
     "shell.execute_reply.started": "2025-07-18T13:17:11.230592Z"
    }
   },
   "outputs": [
    {
     "data": {
      "text/plain": [
       "preds                 0\n",
       "targets               0\n",
       "cds-lm-somess-pred    0\n",
       "ensemble-pred         0\n",
       "fold                  0\n",
       "dtype: int64"
      ]
     },
     "execution_count": 46,
     "metadata": {},
     "output_type": "execute_result"
    }
   ],
   "source": [
    "cds"
   ]
  },
  {
   "cell_type": "code",
   "execution_count": 144,
   "id": "c5a86a17-b7df-462d-9607-d702843e5873",
   "metadata": {
    "execution": {
     "iopub.execute_input": "2025-07-14T10:18:17.152922Z",
     "iopub.status.busy": "2025-07-14T10:18:17.152633Z",
     "iopub.status.idle": "2025-07-14T10:18:17.163740Z",
     "shell.execute_reply": "2025-07-14T10:18:17.163284Z",
     "shell.execute_reply.started": "2025-07-14T10:18:17.152907Z"
    }
   },
   "outputs": [],
   "source": [
    "preds_dedup = preds.groupby(preds.index)[['preds', 'targets']].mean()"
   ]
  },
  {
   "cell_type": "code",
   "execution_count": 45,
   "id": "0e2e4f6d-99c3-4798-8ceb-fec70145f6b0",
   "metadata": {
    "execution": {
     "iopub.execute_input": "2025-07-18T13:17:05.598094Z",
     "iopub.status.busy": "2025-07-18T13:17:05.597691Z",
     "iopub.status.idle": "2025-07-18T13:17:05.602004Z",
     "shell.execute_reply": "2025-07-18T13:17:05.601541Z",
     "shell.execute_reply.started": "2025-07-18T13:17:05.598077Z"
    }
   },
   "outputs": [],
   "source": [
    "saluki_mean_df['fold'] = full_df[full_df['cross'] == 0]['fold'].values"
   ]
  },
  {
   "cell_type": "code",
   "execution_count": 55,
   "id": "73fdfbb0-2a30-425a-90f7-558afa694fbe",
   "metadata": {
    "execution": {
     "iopub.execute_input": "2025-07-18T13:21:24.347976Z",
     "iopub.status.busy": "2025-07-18T13:21:24.347589Z",
     "iopub.status.idle": "2025-07-18T13:21:24.355103Z",
     "shell.execute_reply": "2025-07-18T13:21:24.354639Z",
     "shell.execute_reply.started": "2025-07-18T13:21:24.347958Z"
    }
   },
   "outputs": [
    {
     "data": {
      "text/html": [
       "<div>\n",
       "<style scoped>\n",
       "    .dataframe tbody tr th:only-of-type {\n",
       "        vertical-align: middle;\n",
       "    }\n",
       "\n",
       "    .dataframe tbody tr th {\n",
       "        vertical-align: top;\n",
       "    }\n",
       "\n",
       "    .dataframe thead th {\n",
       "        text-align: right;\n",
       "    }\n",
       "</style>\n",
       "<table border=\"1\" class=\"dataframe\">\n",
       "  <thead>\n",
       "    <tr style=\"text-align: right;\">\n",
       "      <th></th>\n",
       "      <th>cross</th>\n",
       "      <th>fold</th>\n",
       "      <th>rho</th>\n",
       "    </tr>\n",
       "  </thead>\n",
       "  <tbody>\n",
       "    <tr>\n",
       "      <th>0</th>\n",
       "      <td>0</td>\n",
       "      <td>0</td>\n",
       "      <td>0.739944</td>\n",
       "    </tr>\n",
       "    <tr>\n",
       "      <th>1</th>\n",
       "      <td>0</td>\n",
       "      <td>1</td>\n",
       "      <td>0.748122</td>\n",
       "    </tr>\n",
       "    <tr>\n",
       "      <th>2</th>\n",
       "      <td>0</td>\n",
       "      <td>2</td>\n",
       "      <td>0.770250</td>\n",
       "    </tr>\n",
       "    <tr>\n",
       "      <th>3</th>\n",
       "      <td>0</td>\n",
       "      <td>3</td>\n",
       "      <td>0.714445</td>\n",
       "    </tr>\n",
       "    <tr>\n",
       "      <th>4</th>\n",
       "      <td>0</td>\n",
       "      <td>4</td>\n",
       "      <td>0.754732</td>\n",
       "    </tr>\n",
       "    <tr>\n",
       "      <th>5</th>\n",
       "      <td>0</td>\n",
       "      <td>5</td>\n",
       "      <td>0.749226</td>\n",
       "    </tr>\n",
       "    <tr>\n",
       "      <th>6</th>\n",
       "      <td>0</td>\n",
       "      <td>6</td>\n",
       "      <td>0.738434</td>\n",
       "    </tr>\n",
       "    <tr>\n",
       "      <th>7</th>\n",
       "      <td>0</td>\n",
       "      <td>7</td>\n",
       "      <td>0.749404</td>\n",
       "    </tr>\n",
       "    <tr>\n",
       "      <th>8</th>\n",
       "      <td>0</td>\n",
       "      <td>8</td>\n",
       "      <td>0.727087</td>\n",
       "    </tr>\n",
       "    <tr>\n",
       "      <th>9</th>\n",
       "      <td>0</td>\n",
       "      <td>9</td>\n",
       "      <td>0.750301</td>\n",
       "    </tr>\n",
       "    <tr>\n",
       "      <th>10</th>\n",
       "      <td>1</td>\n",
       "      <td>0</td>\n",
       "      <td>0.761489</td>\n",
       "    </tr>\n",
       "    <tr>\n",
       "      <th>11</th>\n",
       "      <td>1</td>\n",
       "      <td>1</td>\n",
       "      <td>0.754547</td>\n",
       "    </tr>\n",
       "    <tr>\n",
       "      <th>12</th>\n",
       "      <td>1</td>\n",
       "      <td>2</td>\n",
       "      <td>0.770448</td>\n",
       "    </tr>\n",
       "    <tr>\n",
       "      <th>13</th>\n",
       "      <td>1</td>\n",
       "      <td>3</td>\n",
       "      <td>0.716979</td>\n",
       "    </tr>\n",
       "    <tr>\n",
       "      <th>14</th>\n",
       "      <td>1</td>\n",
       "      <td>4</td>\n",
       "      <td>0.761869</td>\n",
       "    </tr>\n",
       "    <tr>\n",
       "      <th>15</th>\n",
       "      <td>1</td>\n",
       "      <td>5</td>\n",
       "      <td>0.746179</td>\n",
       "    </tr>\n",
       "    <tr>\n",
       "      <th>16</th>\n",
       "      <td>1</td>\n",
       "      <td>6</td>\n",
       "      <td>0.727494</td>\n",
       "    </tr>\n",
       "    <tr>\n",
       "      <th>17</th>\n",
       "      <td>1</td>\n",
       "      <td>7</td>\n",
       "      <td>0.753872</td>\n",
       "    </tr>\n",
       "    <tr>\n",
       "      <th>18</th>\n",
       "      <td>1</td>\n",
       "      <td>8</td>\n",
       "      <td>0.733799</td>\n",
       "    </tr>\n",
       "    <tr>\n",
       "      <th>19</th>\n",
       "      <td>1</td>\n",
       "      <td>9</td>\n",
       "      <td>0.750282</td>\n",
       "    </tr>\n",
       "    <tr>\n",
       "      <th>20</th>\n",
       "      <td>2</td>\n",
       "      <td>0</td>\n",
       "      <td>0.764835</td>\n",
       "    </tr>\n",
       "    <tr>\n",
       "      <th>21</th>\n",
       "      <td>2</td>\n",
       "      <td>1</td>\n",
       "      <td>0.752004</td>\n",
       "    </tr>\n",
       "    <tr>\n",
       "      <th>22</th>\n",
       "      <td>2</td>\n",
       "      <td>2</td>\n",
       "      <td>0.767005</td>\n",
       "    </tr>\n",
       "    <tr>\n",
       "      <th>23</th>\n",
       "      <td>2</td>\n",
       "      <td>3</td>\n",
       "      <td>0.712772</td>\n",
       "    </tr>\n",
       "    <tr>\n",
       "      <th>24</th>\n",
       "      <td>2</td>\n",
       "      <td>4</td>\n",
       "      <td>0.762904</td>\n",
       "    </tr>\n",
       "    <tr>\n",
       "      <th>25</th>\n",
       "      <td>2</td>\n",
       "      <td>5</td>\n",
       "      <td>0.760187</td>\n",
       "    </tr>\n",
       "    <tr>\n",
       "      <th>26</th>\n",
       "      <td>2</td>\n",
       "      <td>6</td>\n",
       "      <td>0.738864</td>\n",
       "    </tr>\n",
       "    <tr>\n",
       "      <th>27</th>\n",
       "      <td>2</td>\n",
       "      <td>7</td>\n",
       "      <td>0.747916</td>\n",
       "    </tr>\n",
       "    <tr>\n",
       "      <th>28</th>\n",
       "      <td>2</td>\n",
       "      <td>8</td>\n",
       "      <td>0.730808</td>\n",
       "    </tr>\n",
       "    <tr>\n",
       "      <th>29</th>\n",
       "      <td>2</td>\n",
       "      <td>9</td>\n",
       "      <td>0.751170</td>\n",
       "    </tr>\n",
       "    <tr>\n",
       "      <th>30</th>\n",
       "      <td>3</td>\n",
       "      <td>0</td>\n",
       "      <td>0.761905</td>\n",
       "    </tr>\n",
       "    <tr>\n",
       "      <th>31</th>\n",
       "      <td>3</td>\n",
       "      <td>1</td>\n",
       "      <td>0.752000</td>\n",
       "    </tr>\n",
       "    <tr>\n",
       "      <th>32</th>\n",
       "      <td>3</td>\n",
       "      <td>2</td>\n",
       "      <td>0.766616</td>\n",
       "    </tr>\n",
       "    <tr>\n",
       "      <th>33</th>\n",
       "      <td>3</td>\n",
       "      <td>3</td>\n",
       "      <td>0.715590</td>\n",
       "    </tr>\n",
       "    <tr>\n",
       "      <th>34</th>\n",
       "      <td>3</td>\n",
       "      <td>4</td>\n",
       "      <td>0.758003</td>\n",
       "    </tr>\n",
       "    <tr>\n",
       "      <th>35</th>\n",
       "      <td>3</td>\n",
       "      <td>5</td>\n",
       "      <td>0.732259</td>\n",
       "    </tr>\n",
       "    <tr>\n",
       "      <th>36</th>\n",
       "      <td>3</td>\n",
       "      <td>6</td>\n",
       "      <td>0.741017</td>\n",
       "    </tr>\n",
       "    <tr>\n",
       "      <th>37</th>\n",
       "      <td>3</td>\n",
       "      <td>7</td>\n",
       "      <td>0.752582</td>\n",
       "    </tr>\n",
       "    <tr>\n",
       "      <th>38</th>\n",
       "      <td>3</td>\n",
       "      <td>8</td>\n",
       "      <td>0.737556</td>\n",
       "    </tr>\n",
       "    <tr>\n",
       "      <th>39</th>\n",
       "      <td>3</td>\n",
       "      <td>9</td>\n",
       "      <td>0.753416</td>\n",
       "    </tr>\n",
       "    <tr>\n",
       "      <th>40</th>\n",
       "      <td>4</td>\n",
       "      <td>0</td>\n",
       "      <td>0.768055</td>\n",
       "    </tr>\n",
       "    <tr>\n",
       "      <th>41</th>\n",
       "      <td>4</td>\n",
       "      <td>1</td>\n",
       "      <td>0.749118</td>\n",
       "    </tr>\n",
       "    <tr>\n",
       "      <th>42</th>\n",
       "      <td>4</td>\n",
       "      <td>2</td>\n",
       "      <td>0.761500</td>\n",
       "    </tr>\n",
       "    <tr>\n",
       "      <th>43</th>\n",
       "      <td>4</td>\n",
       "      <td>3</td>\n",
       "      <td>0.707854</td>\n",
       "    </tr>\n",
       "    <tr>\n",
       "      <th>44</th>\n",
       "      <td>4</td>\n",
       "      <td>4</td>\n",
       "      <td>0.759287</td>\n",
       "    </tr>\n",
       "    <tr>\n",
       "      <th>45</th>\n",
       "      <td>4</td>\n",
       "      <td>5</td>\n",
       "      <td>0.746014</td>\n",
       "    </tr>\n",
       "    <tr>\n",
       "      <th>46</th>\n",
       "      <td>4</td>\n",
       "      <td>6</td>\n",
       "      <td>0.736688</td>\n",
       "    </tr>\n",
       "    <tr>\n",
       "      <th>47</th>\n",
       "      <td>4</td>\n",
       "      <td>7</td>\n",
       "      <td>0.750546</td>\n",
       "    </tr>\n",
       "    <tr>\n",
       "      <th>48</th>\n",
       "      <td>4</td>\n",
       "      <td>8</td>\n",
       "      <td>0.733482</td>\n",
       "    </tr>\n",
       "    <tr>\n",
       "      <th>49</th>\n",
       "      <td>4</td>\n",
       "      <td>9</td>\n",
       "      <td>0.755446</td>\n",
       "    </tr>\n",
       "  </tbody>\n",
       "</table>\n",
       "</div>"
      ],
      "text/plain": [
       "    cross  fold       rho\n",
       "0       0     0  0.739944\n",
       "1       0     1  0.748122\n",
       "2       0     2  0.770250\n",
       "3       0     3  0.714445\n",
       "4       0     4  0.754732\n",
       "5       0     5  0.749226\n",
       "6       0     6  0.738434\n",
       "7       0     7  0.749404\n",
       "8       0     8  0.727087\n",
       "9       0     9  0.750301\n",
       "10      1     0  0.761489\n",
       "11      1     1  0.754547\n",
       "12      1     2  0.770448\n",
       "13      1     3  0.716979\n",
       "14      1     4  0.761869\n",
       "15      1     5  0.746179\n",
       "16      1     6  0.727494\n",
       "17      1     7  0.753872\n",
       "18      1     8  0.733799\n",
       "19      1     9  0.750282\n",
       "20      2     0  0.764835\n",
       "21      2     1  0.752004\n",
       "22      2     2  0.767005\n",
       "23      2     3  0.712772\n",
       "24      2     4  0.762904\n",
       "25      2     5  0.760187\n",
       "26      2     6  0.738864\n",
       "27      2     7  0.747916\n",
       "28      2     8  0.730808\n",
       "29      2     9  0.751170\n",
       "30      3     0  0.761905\n",
       "31      3     1  0.752000\n",
       "32      3     2  0.766616\n",
       "33      3     3  0.715590\n",
       "34      3     4  0.758003\n",
       "35      3     5  0.732259\n",
       "36      3     6  0.741017\n",
       "37      3     7  0.752582\n",
       "38      3     8  0.737556\n",
       "39      3     9  0.753416\n",
       "40      4     0  0.768055\n",
       "41      4     1  0.749118\n",
       "42      4     2  0.761500\n",
       "43      4     3  0.707854\n",
       "44      4     4  0.759287\n",
       "45      4     5  0.746014\n",
       "46      4     6  0.736688\n",
       "47      4     7  0.750546\n",
       "48      4     8  0.733482\n",
       "49      4     9  0.755446"
      ]
     },
     "execution_count": 55,
     "metadata": {},
     "output_type": "execute_result"
    }
   ],
   "source": [
    "per_fold_res"
   ]
  },
  {
   "cell_type": "code",
   "execution_count": 76,
   "id": "6880191c-761b-401f-a786-05cdb701b599",
   "metadata": {
    "execution": {
     "iopub.execute_input": "2025-07-18T13:44:02.860611Z",
     "iopub.status.busy": "2025-07-18T13:44:02.860202Z",
     "iopub.status.idle": "2025-07-18T13:44:02.864665Z",
     "shell.execute_reply": "2025-07-18T13:44:02.864237Z",
     "shell.execute_reply.started": "2025-07-18T13:44:02.860591Z"
    }
   },
   "outputs": [],
   "source": [
    "cdslm_res = pd.read_csv('./CDS-LM-2048/test_res.csv', index_col=0)"
   ]
  },
  {
   "cell_type": "code",
   "execution_count": 125,
   "id": "42f197ae-fddf-4a12-9410-2d987025eba9",
   "metadata": {
    "execution": {
     "iopub.execute_input": "2025-07-18T14:49:40.277197Z",
     "iopub.status.busy": "2025-07-18T14:49:40.276815Z",
     "iopub.status.idle": "2025-07-18T14:49:40.800940Z",
     "shell.execute_reply": "2025-07-18T14:49:40.800406Z",
     "shell.execute_reply.started": "2025-07-18T14:49:40.277177Z"
    }
   },
   "outputs": [
    {
     "name": "stdout",
     "output_type": "stream",
     "text": [
      "0\n",
      "1\n",
      "2\n",
      "3\n",
      "4\n",
      "5\n",
      "6\n",
      "7\n",
      "8\n",
      "9\n"
     ]
    }
   ],
   "source": [
    "rhos = []\n",
    "cols = []\n",
    "folds = []\n",
    "column_list =['cds-lm-somess-pred', 'preds', 'ensemble-pred']\n",
    "for fold in range(10):\n",
    "    print(fold)\n",
    "    fold_df = saluki_mean_df[saluki_mean_df['fold'] == fold]\n",
    "    for column in column_list:\n",
    "        if column.startswith('c'):\n",
    "            rho = cdslm_res.loc[fold, 'test_spearmanr']\n",
    "        else:\n",
    "            rho, _ = spearmanr(fold_df[column], fold_df['targets'])\n",
    "        rhos.append(rho)\n",
    "        cols.append(column)\n",
    "        folds.append(fold)"
   ]
  },
  {
   "cell_type": "code",
   "execution_count": 127,
   "id": "d9914311-86c3-4bd9-a69a-7e0ea70a2373",
   "metadata": {
    "execution": {
     "iopub.execute_input": "2025-07-18T14:49:59.024882Z",
     "iopub.status.busy": "2025-07-18T14:49:59.024474Z",
     "iopub.status.idle": "2025-07-18T14:49:59.028070Z",
     "shell.execute_reply": "2025-07-18T14:49:59.027647Z",
     "shell.execute_reply.started": "2025-07-18T14:49:59.024862Z"
    }
   },
   "outputs": [],
   "source": [
    "per_fold_cds_res = pd.DataFrame({'Model': cols, 'fold': folds, 'rho': rhos})"
   ]
  },
  {
   "cell_type": "code",
   "execution_count": 112,
   "id": "5a5ab3c6-7a66-41c9-b654-4e9827ecb869",
   "metadata": {
    "execution": {
     "iopub.execute_input": "2025-07-18T14:44:41.019613Z",
     "iopub.status.busy": "2025-07-18T14:44:41.019113Z",
     "iopub.status.idle": "2025-07-18T14:44:41.022553Z",
     "shell.execute_reply": "2025-07-18T14:44:41.022086Z",
     "shell.execute_reply.started": "2025-07-18T14:44:41.019588Z"
    }
   },
   "outputs": [],
   "source": [
    "per_fold_cds_res['Model'] = per_fold_cds_res['Model']"
   ]
  },
  {
   "cell_type": "code",
   "execution_count": 128,
   "id": "f9fb057a-7ae8-406a-95ee-0ad1b5addf07",
   "metadata": {
    "execution": {
     "iopub.execute_input": "2025-07-18T14:50:03.794929Z",
     "iopub.status.busy": "2025-07-18T14:50:03.794259Z",
     "iopub.status.idle": "2025-07-18T14:50:03.799671Z",
     "shell.execute_reply": "2025-07-18T14:50:03.799253Z",
     "shell.execute_reply.started": "2025-07-18T14:50:03.794912Z"
    }
   },
   "outputs": [
    {
     "data": {
      "text/plain": [
       "Model\n",
       "cds-lm-somess-pred    0.751540\n",
       "ensemble-pred         0.777624\n",
       "preds                 0.758071\n",
       "Name: rho, dtype: float64"
      ]
     },
     "execution_count": 128,
     "metadata": {},
     "output_type": "execute_result"
    }
   ],
   "source": [
    "per_fold_cds_res.groupby('Model')['rho'].mean()"
   ]
  },
  {
   "cell_type": "code",
   "execution_count": 104,
   "id": "ad103b39-d587-424d-a265-0e8d5c399214",
   "metadata": {
    "execution": {
     "iopub.execute_input": "2025-07-18T14:43:45.617970Z",
     "iopub.status.busy": "2025-07-18T14:43:45.617551Z",
     "iopub.status.idle": "2025-07-18T14:43:45.621882Z",
     "shell.execute_reply": "2025-07-18T14:43:45.621419Z",
     "shell.execute_reply.started": "2025-07-18T14:43:45.617953Z"
    }
   },
   "outputs": [],
   "source": [
    "per_fold_res.rename({'cross': 'Model'}, inplace=True, axis=1)"
   ]
  },
  {
   "cell_type": "code",
   "execution_count": 105,
   "id": "7a567485-c874-4f1a-abed-7227973d9d7f",
   "metadata": {
    "execution": {
     "iopub.execute_input": "2025-07-18T14:43:46.485140Z",
     "iopub.status.busy": "2025-07-18T14:43:46.484882Z",
     "iopub.status.idle": "2025-07-18T14:43:46.488262Z",
     "shell.execute_reply": "2025-07-18T14:43:46.487859Z",
     "shell.execute_reply.started": "2025-07-18T14:43:46.485116Z"
    }
   },
   "outputs": [],
   "source": [
    "per_fold_res['Model'] = [f'Saluki C{cross}' for cross in per_fold_res['Model']]"
   ]
  },
  {
   "cell_type": "code",
   "execution_count": 129,
   "id": "0473d73c-5eb8-43be-b066-fad248b66f72",
   "metadata": {
    "execution": {
     "iopub.execute_input": "2025-07-18T14:50:12.960100Z",
     "iopub.status.busy": "2025-07-18T14:50:12.959717Z",
     "iopub.status.idle": "2025-07-18T14:50:12.963253Z",
     "shell.execute_reply": "2025-07-18T14:50:12.962817Z",
     "shell.execute_reply.started": "2025-07-18T14:50:12.960083Z"
    }
   },
   "outputs": [],
   "source": [
    "final_res = pd.concat([per_fold_res, per_fold_cds_res])"
   ]
  },
  {
   "cell_type": "code",
   "execution_count": 135,
   "id": "12f013bc-cd84-47db-af91-cd02ff06da2f",
   "metadata": {
    "execution": {
     "iopub.execute_input": "2025-07-18T14:51:07.264317Z",
     "iopub.status.busy": "2025-07-18T14:51:07.263935Z",
     "iopub.status.idle": "2025-07-18T14:51:07.267702Z",
     "shell.execute_reply": "2025-07-18T14:51:07.267278Z",
     "shell.execute_reply.started": "2025-07-18T14:51:07.264291Z"
    }
   },
   "outputs": [],
   "source": [
    "final_res.to_csv('./all_saluki_fold_res.csv')"
   ]
  },
  {
   "cell_type": "code",
   "execution_count": 134,
   "id": "c62e990f-de09-48b3-8cc6-361b42f3e66f",
   "metadata": {
    "execution": {
     "iopub.execute_input": "2025-07-18T14:51:03.361277Z",
     "iopub.status.busy": "2025-07-18T14:51:03.360912Z",
     "iopub.status.idle": "2025-07-18T14:51:03.364951Z",
     "shell.execute_reply": "2025-07-18T14:51:03.364506Z",
     "shell.execute_reply.started": "2025-07-18T14:51:03.361260Z"
    }
   },
   "outputs": [
    {
     "name": "stderr",
     "output_type": "stream",
     "text": [
      "/tmp/ipykernel_1317/2662466716.py:2: FutureWarning: A value is trying to be set on a copy of a DataFrame or Series through chained assignment using an inplace method.\n",
      "The behavior will change in pandas 3.0. This inplace method will never work because the intermediate object on which we are setting values always behaves as a copy.\n",
      "\n",
      "For example, when doing 'df[col].method(value, inplace=True)', try using 'df.method({col: value}, inplace=True)' or df[col] = df[col].method(value) instead, to perform the operation inplace on the original object.\n",
      "\n",
      "\n",
      "  final_res['Model'].replace({'cds-lm-somess-pred':'CDS-LM', 'preds': 'Saluki Ensemble', 'ensemble-pred': 'Saluki + CDS-LM'}, inplace=True)\n"
     ]
    }
   ],
   "source": [
    "#final_res['Model'] =\n",
    "final_res['Model'].replace({'cds-lm-somess-pred':'CDS-LM', 'preds': 'Saluki Ensemble', 'ensemble-pred': 'Saluki + CDS-LM'}, inplace=True)"
   ]
  },
  {
   "cell_type": "code",
   "execution_count": 139,
   "id": "d1d190eb-6175-4018-a353-dc776f815c89",
   "metadata": {
    "execution": {
     "iopub.execute_input": "2025-07-18T14:57:56.511979Z",
     "iopub.status.busy": "2025-07-18T14:57:56.511593Z",
     "iopub.status.idle": "2025-07-18T14:57:56.515465Z",
     "shell.execute_reply": "2025-07-18T14:57:56.515036Z",
     "shell.execute_reply.started": "2025-07-18T14:57:56.511959Z"
    }
   },
   "outputs": [
    {
     "data": {
      "text/plain": [
       "['Saluki C0',\n",
       " 'Saluki C1',\n",
       " 'Saluki C2',\n",
       " 'Saluki C3',\n",
       " 'Saluki C4',\n",
       " 'CDS-LM',\n",
       " 'Saluki Ensemble',\n",
       " 'Saluki + CDS-LM']"
      ]
     },
     "execution_count": 139,
     "metadata": {},
     "output_type": "execute_result"
    }
   ],
   "source": [
    "model_list = final_res['Model'].unique().tolist()\n",
    "model_list"
   ]
  },
  {
   "cell_type": "code",
   "execution_count": 146,
   "id": "d1bfd195-77db-4d59-88b6-d021a83dbdf7",
   "metadata": {
    "execution": {
     "iopub.execute_input": "2025-07-18T15:00:32.524070Z",
     "iopub.status.busy": "2025-07-18T15:00:32.523715Z",
     "iopub.status.idle": "2025-07-18T15:00:33.095493Z",
     "shell.execute_reply": "2025-07-18T15:00:33.000387Z",
     "shell.execute_reply.started": "2025-07-18T15:00:32.524053Z"
    }
   },
   "outputs": [],
   "source": [
    "rho_list = []\n",
    "for cross in range(5):\n",
    "    df_copy = full_df[full_df['cross'] == cross]\n",
    "    rho, _ = spearmanr(df_copy['preds'], df_copy['targets'])\n",
    "    rho_list.append(rho)        "
   ]
  },
  {
   "cell_type": "code",
   "execution_count": 147,
   "id": "7f99b7bf-4e1b-4619-9c05-b280c5871aab",
   "metadata": {
    "execution": {
     "iopub.execute_input": "2025-07-18T15:00:33.097665Z",
     "iopub.status.busy": "2025-07-18T15:00:33.097062Z",
     "iopub.status.idle": "2025-07-18T15:00:33.396443Z",
     "shell.execute_reply": "2025-07-18T15:00:33.300968Z",
     "shell.execute_reply.started": "2025-07-18T15:00:33.097647Z"
    }
   },
   "outputs": [],
   "source": [
    "rho, _ = spearmanr(new_res_dedup['preds'], new_res_dedup['targets'])\n",
    "rho_list.append(rho)\n",
    "for column in ['preds', 'ensemble-pred']:\n",
    "    rho, _ = spearmanr(saluki_mean_df[column], saluki_mean_df['targets'])\n",
    "    rho_list.append(rho)"
   ]
  },
  {
   "cell_type": "code",
   "execution_count": 148,
   "id": "8107a629-f617-466a-931b-95e011c5827a",
   "metadata": {
    "execution": {
     "iopub.execute_input": "2025-07-18T15:00:33.397847Z",
     "iopub.status.busy": "2025-07-18T15:00:33.397418Z",
     "iopub.status.idle": "2025-07-18T15:00:33.496254Z",
     "shell.execute_reply": "2025-07-18T15:00:33.400750Z",
     "shell.execute_reply.started": "2025-07-18T15:00:33.397830Z"
    }
   },
   "outputs": [
    {
     "data": {
      "text/plain": [
       "[np.float64(0.711215501725911),\n",
       " np.float64(0.7423736981236774),\n",
       " np.float64(0.731475061464832),\n",
       " np.float64(0.7398040426471512),\n",
       " np.float64(0.7409847338571558),\n",
       " np.float64(0.7504056579383419),\n",
       " np.float64(0.7641120326938552),\n",
       " np.float64(0.7834587071272946)]"
      ]
     },
     "execution_count": 148,
     "metadata": {},
     "output_type": "execute_result"
    }
   ],
   "source": [
    "rho_list"
   ]
  },
  {
   "cell_type": "code",
   "execution_count": 149,
   "id": "4ca7437a-5fa4-4be3-bb0e-9a8d500cf63b",
   "metadata": {
    "execution": {
     "iopub.execute_input": "2025-07-18T15:01:10.551083Z",
     "iopub.status.busy": "2025-07-18T15:01:10.550838Z",
     "iopub.status.idle": "2025-07-18T15:01:10.554700Z",
     "shell.execute_reply": "2025-07-18T15:01:10.554250Z",
     "shell.execute_reply.started": "2025-07-18T15:01:10.551067Z"
    }
   },
   "outputs": [],
   "source": [
    "full_res = pd.DataFrame({'Model': model_list, 'rho': rho_list})\n",
    "full_res.to_csv('all_saluki_res.csv')"
   ]
  },
  {
   "cell_type": "code",
   "execution_count": null,
   "id": "ea5fdabd-dfd1-4c02-89e2-0ecd0015878d",
   "metadata": {},
   "outputs": [],
   "source": []
  }
 ],
 "metadata": {
  "kernelspec": {
   "display_name": "saturn (Python 3)",
   "language": "python",
   "name": "python3"
  },
  "language_info": {
   "codemirror_mode": {
    "name": "ipython",
    "version": 3
   },
   "file_extension": ".py",
   "mimetype": "text/x-python",
   "name": "python",
   "nbconvert_exporter": "python",
   "pygments_lexer": "ipython3",
   "version": "3.12.9"
  }
 },
 "nbformat": 4,
 "nbformat_minor": 5
}
